{
 "cells": [
  {
   "cell_type": "markdown",
   "id": "9d3272f4",
   "metadata": {},
   "source": [
    "## **Tutorial: Prepare your own documents for vector search**"
   ]
  },
  {
   "cell_type": "code",
   "execution_count": null,
   "id": "1d3492d8",
   "metadata": {},
   "outputs": [],
   "source": [
    "!uv add langchain pypdf langchain-google-genai langchain-community"
   ]
  },
  {
   "cell_type": "markdown",
   "id": "8d2a527d",
   "metadata": {},
   "source": [
    "### **Loading chunks**"
   ]
  },
  {
   "cell_type": "code",
   "execution_count": 2,
   "id": "2e78d64e",
   "metadata": {},
   "outputs": [
    {
     "name": "stdout",
     "output_type": "stream",
     "text": [
      "Loaded 1 chunks from ./docs\\amazon.pdf\n",
      "Loaded 1 chunks from ./docs\\apple.pdf\n",
      "Loaded 1 chunks from ./docs\\google.pdf\n",
      "Loaded 1 chunks from ./docs\\meta.pdf\n",
      "Loaded 1 chunks from ./docs\\microsoft.pdf\n",
      "Loaded 1 chunks from ./docs\\tesla.pdf\n",
      "Loaded total of 6 document chunks\n"
     ]
    }
   ],
   "source": [
    "import os\n",
    "from langchain_community.document_loaders import PyPDFLoader\n",
    "\n",
    "docs_dir = \"./docs\"\n",
    "\n",
    "all_files = [os.path.join(docs_dir, f) for f in os.listdir(docs_dir)\n",
    "             if os.path.isfile(os.path.join(docs_dir, f))]\n",
    "\n",
    "documents = []\n",
    "for file_path in all_files:\n",
    "    try:\n",
    "        loader = PyPDFLoader(\n",
    "            file_path=file_path\n",
    "        )\n",
    "        docs = loader.load()\n",
    "        documents.extend(docs)\n",
    "        print(f\"Loaded {len(docs)} chunks from {file_path}\")\n",
    "    except Exception as e:\n",
    "        print(f\"Error loading {file_path}: {e}\")\n",
    "\n",
    "print(f\"Loaded total of {len(documents)} document chunks\")"
   ]
  },
  {
   "cell_type": "markdown",
   "id": "eecebc65",
   "metadata": {},
   "source": [
    "### **Chunking documents**\n",
    "\n",
    "Split large documents into smaller chunks for better embedding quality."
   ]
  },
  {
   "cell_type": "code",
   "execution_count": 3,
   "id": "972d89d1",
   "metadata": {},
   "outputs": [
    {
     "name": "stdout",
     "output_type": "stream",
     "text": [
      "Create 6 chunks\n"
     ]
    }
   ],
   "source": [
    "from langchain.text_splitter import RecursiveCharacterTextSplitter\n",
    "\n",
    "text_splitter = RecursiveCharacterTextSplitter(\n",
    "    chunk_size = 1000,\n",
    "    chunk_overlap = 200\n",
    ")\n",
    "\n",
    "chunks = text_splitter.split_documents(documents)\n",
    "print(f\"Create {len(chunks)} chunks\")"
   ]
  },
  {
   "cell_type": "code",
   "execution_count": 5,
   "id": "fcf3c6d6",
   "metadata": {},
   "outputs": [
    {
     "name": "stdout",
     "output_type": "stream",
     "text": [
      "Amazon\n",
      "Contact: Joe Smith - VP, Infrastructure Strategy\n",
      "Sales Stage: Discovery (SQL)\n",
      "Deal Size: Est. $450K ARR\n",
      "Meetings:\n",
      "May 12: Intro call. Focus on AWS internal cost visibility.\n",
      "May 17: Demo of usage spike detection module.\n",
      "Needs:\n",
      "Real-time usage-based alerts for finance ops.\n",
      "Historical usage analytics with granularity below SKU level.\n",
      "Objections:\n",
      "Concerned about integration effort with internal billing APIs.\n",
      "Internal Notes:\n",
      "Similar use case to Jetstream (current customer); POC completed in 3 \n",
      "weeks.\n",
      "Next Steps:\n",
      "Share pricing tiers.\n",
      "Align with FinOps team lead on pilot scope by June 1.\n",
      "----------------------------------------------------------------------------------------------------\n",
      "Apple\n",
      "Contact: Sara Cooper – Sr. Manager, Enterprise Security\n",
      "Sales Stage: MQL\n",
      "Deal Size: Unknown (early stage)\n",
      "Meetings:\n",
      "May 20: Attended webinar, downloaded whitepaper.\n",
      "Call scheduled for June 3.\n",
      "Needs:\n",
      "Post-quantum cryptographic module + supplier risk insights.\n",
      "Objections:\n",
      "Very early stage; waiting for internal exploration greenlight.\n",
      "Internal Notes:\n",
      "Mentioned interest in minimal data collection footprint.\n",
      "Next Steps:\n",
      "Send 1-pager and security architecture docs pre-call.\n",
      "----------------------------------------------------------------------------------------------------\n",
      "Google\n",
      "Contact: Alex Zhang – Sr. Director, Cloud ML Ops\n",
      "Sales Stage: Closed Won\n",
      "Deal Size: $310K ARR\n",
      "Meetings:\n",
      "March 18: Risk monitoring POC kickoff.\n",
      "April 10: Training session with model reliability team.\n",
      "Needs:\n",
      "Alerting on drift in high-traffic models.\n",
      "Dashboard integrations with Looker.\n",
      "Objections:\n",
      "None — deployment complete, expanding to Ads org.\n",
      "Internal Notes:\n",
      "Requested user-level event tagging feature from roadmap.\n",
      "Next Steps:\n",
      "Schedule QBR for July with MLOps stakeholders.\n",
      "----------------------------------------------------------------------------------------------------\n",
      "Meta (Facebook)\n",
      "Contact: Jordan Miguel – Director of Platform Strategy\n",
      "Sales Stage: Proposal Sent\n",
      "Deal Size: $950K (multi-org rollout)\n",
      "Meetings:\n",
      "May 1: Advanced segmentation demo.\n",
      "May 12: Procurement walkthrough.\n",
      "Needs:\n",
      "Privacy-safe user behavior analytics for ad optimization.\n",
      "Objections:\n",
      "Legal reviewing cross-border data routing concerns.\n",
      "Internal Notes:\n",
      "Competing with Mixpanel and Heap.\n",
      "Next Steps:\n",
      "Send updated DPA.\n",
      "Follow up post-policy review (ETA June 7).\n",
      "----------------------------------------------------------------------------------------------------\n",
      "Microsoft\n",
      "Contact: Jane Doe – Head of AI Platform Partnerships\n",
      "Sales Stage: Technical Evaluation (Late Stage)\n",
      "Deal Size: $720K ARR\n",
      "Meetings:\n",
      "April 4: Architecture deep dive with Azure AI team.\n",
      "May 2: Compliance & audit alignment workshop.\n",
      "Needs:\n",
      "Integration with Azure AI Studio for LLM monitoring.\n",
      "Compliance alerts for multi-tenant AI deployments.\n",
      "Objections:\n",
      "Wants FedRAMP Moderate within 6 months.\n",
      "Internal Notes:\n",
      "They’re replacing an internal tool. Highlight speed + coverage.\n",
      "Next Steps:\n",
      "Provide SOC 2 Type II audit.\n",
      "Draft SOW with legal by June 10.\n",
      "----------------------------------------------------------------------------------------------------\n",
      "Tesla\n",
      "Contact: Nathan Ash – Head of Software Integration\n",
      "Sales Stage: Early Demo\n",
      "Deal Size: $600K (initial scope)\n",
      "Meetings:\n",
      "May 10: Robotics analytics walkthrough.\n",
      "May 14: Discussion with manufacturing systems team.\n",
      "Needs:\n",
      "Predictive maintenance alerts for Gigafactory robotics arms.\n",
      "Offline deployment (low latency / no external traffic).\n",
      "Objections:\n",
      "Concern about vendor lock-in; prefers modular system.\n",
      "Internal Notes:\n",
      "Use on-prem reference from Vantage Energy rollout.\n",
      "Next Steps:\n",
      "Share local agent deployment option + performance benchmarks.\n",
      "----------------------------------------------------------------------------------------------------\n"
     ]
    }
   ],
   "source": [
    "for chunk in chunks:\n",
    "    print(chunk.page_content)\n",
    "    print(\"-\"*100)"
   ]
  },
  {
   "cell_type": "markdown",
   "id": "b04cf4c7",
   "metadata": {},
   "source": [
    "### **Generate embeddings**"
   ]
  },
  {
   "cell_type": "code",
   "execution_count": 6,
   "id": "0ce1df6c",
   "metadata": {},
   "outputs": [
    {
     "name": "stdout",
     "output_type": "stream",
     "text": [
      "Get API_KEY successfully\n"
     ]
    }
   ],
   "source": [
    "import os\n",
    "from dotenv import load_dotenv\n",
    "\n",
    "load_dotenv()\n",
    "\n",
    "gg_api_key = os.getenv(\"GOOGLE_API_KEY\")\n",
    "if gg_api_key is None:\n",
    "    print(\"Please setting up your API_KEY in .env file\")\n",
    "else:\n",
    "    print(\"Get API_KEY successfully\")"
   ]
  },
  {
   "cell_type": "code",
   "execution_count": 7,
   "id": "65f44545",
   "metadata": {},
   "outputs": [],
   "source": [
    "from langchain_google_genai import GoogleGenerativeAIEmbeddings\n",
    "\n",
    "embeddings = GoogleGenerativeAIEmbeddings(google_api_key=gg_api_key, model=\"text-embedding-004\")"
   ]
  },
  {
   "cell_type": "markdown",
   "id": "9da1318e",
   "metadata": {},
   "source": [
    "### **Store embeddings in Chroma**\n",
    "\n",
    "Initialize a Chroma vector store and persist it locally."
   ]
  },
  {
   "cell_type": "code",
   "execution_count": 8,
   "id": "3f0beb54",
   "metadata": {},
   "outputs": [],
   "source": [
    "from langchain.vectorstores import Chroma\n",
    "\n",
    "# Create vector store with Chroma\n",
    "vectordb = Chroma.from_documents(\n",
    "    chunks,\n",
    "    embedding=embeddings,\n",
    "    persist_directory=\"db\",\n",
    "    collection_name=\"crm\"\n",
    ")"
   ]
  },
  {
   "cell_type": "markdown",
   "id": "ce9f295c",
   "metadata": {},
   "source": [
    "### **Example similarity search**"
   ]
  },
  {
   "cell_type": "code",
   "execution_count": 9,
   "id": "e3ab0b04",
   "metadata": {},
   "outputs": [
    {
     "name": "stdout",
     "output_type": "stream",
     "text": [
      "Result 1: Tesla\n",
      "Contact: Nathan Ash – Head of Software Integration\n",
      "Sales Stage: Early Demo\n",
      "Deal Size: $600K (initial scope)\n",
      "Meetings:\n",
      "May 10: Robotics analytics walkthrough.\n",
      "May 14: Discussion with manufacturing systems team.\n",
      "Needs:\n",
      "Predictive maintenance alerts for Gigafactory robotics arms.\n",
      "Offline deployment (low latency / no external traffic).\n",
      "Objections:\n",
      "Concern about vendor lock-in; prefers modular system.\n",
      "Internal Notes:\n",
      "Use on-prem reference from Vantage Energy rollout.\n",
      "Next Steps:\n",
      "Share local agent deployment option + performance benchmarks....\n",
      "\n",
      "Result 2: Apple\n",
      "Contact: Sara Cooper – Sr. Manager, Enterprise Security\n",
      "Sales Stage: MQL\n",
      "Deal Size: Unknown (early stage)\n",
      "Meetings:\n",
      "May 20: Attended webinar, downloaded whitepaper.\n",
      "Call scheduled for June 3.\n",
      "Needs:\n",
      "Post-quantum cryptographic module + supplier risk insights.\n",
      "Objections:\n",
      "Very early stage; waiting for internal exploration greenlight.\n",
      "Internal Notes:\n",
      "Mentioned interest in minimal data collection footprint.\n",
      "Next Steps:\n",
      "Send 1-pager and security architecture docs pre-call....\n",
      "\n",
      "Result 3: Microsoft\n",
      "Contact: Jane Doe – Head of AI Platform Partnerships\n",
      "Sales Stage: Technical Evaluation (Late Stage)\n",
      "Deal Size: $720K ARR\n",
      "Meetings:\n",
      "April 4: Architecture deep dive with Azure AI team.\n",
      "May 2: Compliance & audit alignment workshop.\n",
      "Needs:\n",
      "Integration with Azure AI Studio for LLM monitoring.\n",
      "Compliance alerts for multi-tenant AI deployments.\n",
      "Objections:\n",
      "Wants FedRAMP Moderate within 6 months.\n",
      "Internal Notes:\n",
      "They’re replacing an internal tool. Highlight speed + coverage.\n",
      "Next Steps:\n",
      "Provide SOC 2 Type II audit.\n",
      "Draft SOW with legal by June 10....\n",
      "\n",
      "Result 4: Google\n",
      "Contact: Alex Zhang – Sr. Director, Cloud ML Ops\n",
      "Sales Stage: Closed Won\n",
      "Deal Size: $310K ARR\n",
      "Meetings:\n",
      "March 18: Risk monitoring POC kickoff.\n",
      "April 10: Training session with model reliability team.\n",
      "Needs:\n",
      "Alerting on drift in high-traffic models.\n",
      "Dashboard integrations with Looker.\n",
      "Objections:\n",
      "None — deployment complete, expanding to Ads org.\n",
      "Internal Notes:\n",
      "Requested user-level event tagging feature from roadmap.\n",
      "Next Steps:\n",
      "Schedule QBR for July with MLOps stakeholders....\n",
      "\n",
      "Result 5: Amazon\n",
      "Contact: Joe Smith - VP, Infrastructure Strategy\n",
      "Sales Stage: Discovery (SQL)\n",
      "Deal Size: Est. $450K ARR\n",
      "Meetings:\n",
      "May 12: Intro call. Focus on AWS internal cost visibility.\n",
      "May 17: Demo of usage spike detection module.\n",
      "Needs:\n",
      "Real-time usage-based alerts for finance ops.\n",
      "Historical usage analytics with granularity below SKU level.\n",
      "Objections:\n",
      "Concerned about integration effort with internal billing APIs.\n",
      "Internal Notes:\n",
      "Similar use case to Jetstream (current customer); POC completed in 3 \n",
      "weeks.\n",
      "Next Steps:\n",
      "Share pricing tiers.\n",
      "Align with FinOps team lead on pilot scope by June 1....\n",
      "\n"
     ]
    }
   ],
   "source": [
    "# Test\n",
    "query = \"robotics\"\n",
    "results = vectordb.similarity_search(query, k=5)\n",
    "for i, doc in enumerate(results):\n",
    "    print(f\"Result {i+1}: {doc.page_content}...\\n\")"
   ]
  },
  {
   "cell_type": "code",
   "execution_count": null,
   "id": "6e207278",
   "metadata": {},
   "outputs": [],
   "source": []
  }
 ],
 "metadata": {
  "kernelspec": {
   "display_name": "ai-agent-tutorials",
   "language": "python",
   "name": "python3"
  },
  "language_info": {
   "codemirror_mode": {
    "name": "ipython",
    "version": 3
   },
   "file_extension": ".py",
   "mimetype": "text/x-python",
   "name": "python",
   "nbconvert_exporter": "python",
   "pygments_lexer": "ipython3",
   "version": "3.12.11"
  }
 },
 "nbformat": 4,
 "nbformat_minor": 5
}
