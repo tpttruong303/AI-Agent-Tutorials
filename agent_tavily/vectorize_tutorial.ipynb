{
 "cells": [
  {
   "cell_type": "markdown",
   "id": "9d3272f4",
   "metadata": {},
   "source": [
    "## **Tutorial: Prepare your own documents for vector search**"
   ]
  },
  {
   "cell_type": "code",
   "execution_count": null,
   "id": "1d3492d8",
   "metadata": {},
   "outputs": [],
   "source": [
    "!uv add langchain pypdf langchain-google-genai"
   ]
  },
  {
   "cell_type": "code",
   "execution_count": null,
   "id": "2e78d64e",
   "metadata": {},
   "outputs": [],
   "source": [
    "import os"
   ]
  }
 ],
 "metadata": {
  "kernelspec": {
   "display_name": "ai-agent-tutorials",
   "language": "python",
   "name": "python3"
  },
  "language_info": {
   "codemirror_mode": {
    "name": "ipython",
    "version": 3
   },
   "file_extension": ".py",
   "mimetype": "text/x-python",
   "name": "python",
   "nbconvert_exporter": "python",
   "pygments_lexer": "ipython3",
   "version": "3.12.11"
  }
 },
 "nbformat": 4,
 "nbformat_minor": 5
}
