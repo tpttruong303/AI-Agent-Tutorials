{
 "cells": [
  {
   "cell_type": "markdown",
   "id": "5637de06",
   "metadata": {},
   "source": [
    "## **Combine Internal Data with Web Data**"
   ]
  },
  {
   "cell_type": "markdown",
   "id": "5282ef3d",
   "metadata": {},
   "source": [
    "### **Introduction**"
   ]
  },
  {
   "cell_type": "markdown",
   "id": "288d4fa0",
   "metadata": {},
   "source": [
    "In this tutorial, you'll discover how to build a **hybrid agent** that combines real-time web data with your own internal knowledge sources. For enterprises, the true power of agents comes from integrating proprietary internal data with information from the public web.\n",
    "\n",
    "By the end, you'll be able to:\n",
    "- **Integrate** web search results and private documents into a single agent workflow\n",
    "- **Enable** your agent to compare, contrast and synthesize information from both public and internal sources\n",
    "- **Build** more accurate, up-to-date, and context-aware applications for research, analysis, and decision-making\n",
    "\n",
    "> **Why is this approach valuable?**\n",
    "> \n",
    "> It empowers your AI to answer questions with the most current information avaiable online, while also leveraging your proprietary data - just like a human expert would.\n",
    ">\n",
    "> You'll unlock new capabilities for market research, competitive intelligence, and any scenario where both internal and external knowledge matter."
   ]
  },
  {
   "cell_type": "markdown",
   "id": "261d24ac",
   "metadata": {},
   "source": [
    "### **Setting Up**"
   ]
  },
  {
   "cell_type": "code",
   "execution_count": 1,
   "id": "56afbcd9",
   "metadata": {},
   "outputs": [],
   "source": [
    "# install dependencies\n",
    "!uv add tavily-python langchain-google-genai langchain-chroma langchain langchain-tavily langgraph python-dotenv --quiet"
   ]
  },
  {
   "cell_type": "code",
   "execution_count": 1,
   "id": "dbc441f9",
   "metadata": {},
   "outputs": [
    {
     "name": "stdout",
     "output_type": "stream",
     "text": [
      "Get API_KEY successfully\n"
     ]
    }
   ],
   "source": [
    "import os\n",
    "from dotenv import load_dotenv\n",
    "\n",
    "load_dotenv()\n",
    "\n",
    "tavily_api_key = os.getenv(\"TAVILY_API_KEY\")\n",
    "gg_api_key = os.getenv(\"GOOGLE_API_KEY\")\n",
    "\n",
    "if tavily_api_key is None or gg_api_key is None:\n",
    "    print(\"Please set up you API_KEY in .env file\")\n",
    "else:\n",
    "    print(\"Get API_KEY successfully\")"
   ]
  },
  {
   "cell_type": "code",
   "execution_count": 2,
   "id": "78b93655",
   "metadata": {},
   "outputs": [
    {
     "name": "stdout",
     "output_type": "stream",
     "text": [
      "Hello! How can I help you today?\n"
     ]
    }
   ],
   "source": [
    "from tavily import TavilyClient\n",
    "from langchain_google_genai import ChatGoogleGenerativeAI\n",
    "\n",
    "tavily_client = TavilyClient(api_key=tavily_api_key)\n",
    "llm = ChatGoogleGenerativeAI(model = \"gemini-2.5-flash\",\n",
    "                             api_key=gg_api_key)\n",
    "\n",
    "# Test llm setup\n",
    "response = llm.invoke(input=\"Hi\")\n",
    "print(response.content)"
   ]
  },
  {
   "cell_type": "markdown",
   "id": "3cbc72a0",
   "metadata": {},
   "source": [
    "### **Vector Database Set Up**"
   ]
  },
  {
   "cell_type": "markdown",
   "id": "8da49b40",
   "metadata": {},
   "source": [
    "In this tutorial, we'll use a pre-built vector database to simulate an internal knowledge store. The data is based on synthetically generated mock CRM documents, designed to support a CRM and sales insights use case.\n",
    "\n",
    "To keep things simple, we've prepared a vector store using Chroma and GEMINI embeddings, built from the mock CRM data."
   ]
  },
  {
   "cell_type": "code",
   "execution_count": 3,
   "id": "cdb7823b",
   "metadata": {},
   "outputs": [],
   "source": [
    "from langchain_chroma import Chroma\n",
    "from langchain_google_genai.embeddings import GoogleGenerativeAIEmbeddings\n",
    "\n",
    "# Initialize the embedding model\n",
    "embedding_model = GoogleGenerativeAIEmbeddings(api_key=gg_api_key, model=\"text-embedding-004\")\n",
    "\n",
    "# Initialize the Chroma vector store\n",
    "vector_store = Chroma(\n",
    "    embedding_function=embedding_model,\n",
    "    persist_directory=\"db\",\n",
    "    collection_name=\"crm\"\n",
    ")"
   ]
  },
  {
   "cell_type": "code",
   "execution_count": 4,
   "id": "5358255e",
   "metadata": {},
   "outputs": [],
   "source": [
    "# Test setup database\n",
    "\n",
    "# Initialize the retriever\n",
    "retriever = vector_store.as_retriever()\n",
    "\n",
    "# Query the vector index\n",
    "search_results = retriever.invoke(\"robotics use case\")"
   ]
  },
  {
   "cell_type": "code",
   "execution_count": 5,
   "id": "4e716d7c",
   "metadata": {},
   "outputs": [
    {
     "name": "stdout",
     "output_type": "stream",
     "text": [
      "Tesla\n",
      "Contact: Nathan Ash – Head of Software Integration\n",
      "Sales Stage: Early Demo\n",
      "Deal Size: $600K (initial scope)\n",
      "Meetings:\n",
      "May 10: Robotics analytics walkthrough.\n",
      "May 14: Discussion with manufacturing systems team.\n",
      "Needs:\n",
      "Predictive maintenance alerts for Gigafactory robotics arms.\n",
      "Offline deployment (low latency / no external traffic).\n",
      "Objections:\n",
      "Concern about vendor lock-in; prefers modular system.\n",
      "Internal Notes:\n",
      "Use on-prem reference from Vantage Energy rollout.\n",
      "Next Steps:\n",
      "Share local agent deployment option + performance benchmarks.\n",
      "\n",
      "\n",
      "Microsoft\n",
      "Contact: Jane Doe – Head of AI Platform Partnerships\n",
      "Sales Stage: Technical Evaluation (Late Stage)\n",
      "Deal Size: $720K ARR\n",
      "Meetings:\n",
      "April 4: Architecture deep dive with Azure AI team.\n",
      "May 2: Compliance & audit alignment workshop.\n",
      "Needs:\n",
      "Integration with Azure AI Studio for LLM monitoring.\n",
      "Compliance alerts for multi-tenant AI deployments.\n",
      "Objections:\n",
      "Wants FedRAMP Moderate within 6 months.\n",
      "Internal Notes:\n",
      "They’re replacing an internal tool. Highlight speed + coverage.\n",
      "Next Steps:\n",
      "Provide SOC 2 Type II audit.\n",
      "Draft SOW with legal by June 10.\n",
      "\n",
      "\n",
      "Apple\n",
      "Contact: Sara Cooper – Sr. Manager, Enterprise Security\n",
      "Sales Stage: MQL\n",
      "Deal Size: Unknown (early stage)\n",
      "Meetings:\n",
      "May 20: Attended webinar, downloaded whitepaper.\n",
      "Call scheduled for June 3.\n",
      "Needs:\n",
      "Post-quantum cryptographic module + supplier risk insights.\n",
      "Objections:\n",
      "Very early stage; waiting for internal exploration greenlight.\n",
      "Internal Notes:\n",
      "Mentioned interest in minimal data collection footprint.\n",
      "Next Steps:\n",
      "Send 1-pager and security architecture docs pre-call.\n",
      "\n",
      "\n",
      "Google\n",
      "Contact: Alex Zhang – Sr. Director, Cloud ML Ops\n",
      "Sales Stage: Closed Won\n",
      "Deal Size: $310K ARR\n",
      "Meetings:\n",
      "March 18: Risk monitoring POC kickoff.\n",
      "April 10: Training session with model reliability team.\n",
      "Needs:\n",
      "Alerting on drift in high-traffic models.\n",
      "Dashboard integrations with Looker.\n",
      "Objections:\n",
      "None — deployment complete, expanding to Ads org.\n",
      "Internal Notes:\n",
      "Requested user-level event tagging feature from roadmap.\n",
      "Next Steps:\n",
      "Schedule QBR for July with MLOps stakeholders.\n",
      "\n",
      "\n"
     ]
    }
   ],
   "source": [
    "for result in search_results:\n",
    "    print(result.page_content)\n",
    "    print(\"\\n\")"
   ]
  },
  {
   "cell_type": "code",
   "execution_count": 6,
   "id": "0c42cbca",
   "metadata": {},
   "outputs": [
    {
     "name": "stderr",
     "output_type": "stream",
     "text": [
      "C:\\Users\\Admin\\AppData\\Local\\Temp\\ipykernel_5224\\3787222529.py:3: LangChainBetaWarning: This API is in beta and may change in the future.\n",
      "  vector_search_tool = retriever.as_tool(\n"
     ]
    }
   ],
   "source": [
    "from langchain_tavily import TavilySearch, TavilyExtract, TavilyCrawl\n",
    "\n",
    "vector_search_tool = retriever.as_tool(\n",
    "    name=\"vector_search\",\n",
    "    description=\"\"\"\n",
    "    Perform a vector search on our company's CRM data.\n",
    "    \"\"\"\n",
    ")\n",
    "\n",
    "search = TavilySearch(max_results=5, topic=\"general\")\n",
    "extract = TavilyExtract(extract_depth=\"advanced\")\n",
    "crawl = TavilyCrawl()"
   ]
  },
  {
   "cell_type": "code",
   "execution_count": 7,
   "id": "c50a55da",
   "metadata": {},
   "outputs": [],
   "source": [
    "from langchain_google_genai import ChatGoogleGenerativeAI\n",
    "\n",
    "llm = ChatGoogleGenerativeAI(\n",
    "    model = \"gemini-2.5-flash\",\n",
    "    api_key = gg_api_key\n",
    ")"
   ]
  },
  {
   "cell_type": "markdown",
   "id": "bb932bdc",
   "metadata": {},
   "source": [
    "### **Hybrid Agent**"
   ]
  },
  {
   "cell_type": "markdown",
   "id": "43e07770",
   "metadata": {},
   "source": [
    "We'll now define our hybrid react agent using LangGraph, illusetrated in the diagram below.\n",
    "\n",
    "The system prompt is a crucial component in guiding the agent's behavior, as it sets the context, boundaries, and instructions for how the agent should interact with available tools and data sources. A well-crafted system prompt ensures the agent understands what information it can access, how to use each tool effectively, and what standards to follow when generating responses.\n",
    "\n",
    "The system prompt below explicitly outlines the agent's capabilities, including access to both public web tools (search, extract, crawl) and an internal vector search tool for proprietary CRM data. It details the purpose and best pratices for each tool, emphasizes the importance of grouping answers in retrieved information, and prohibits the agent from making up facts or relying on prior knowledge. This comprehensive prompt helps the agent make informed decisions about when and how to use each tool, resulting in more accurate and reliable outputs.\n",
    "\n",
    "The prompt clearly describe what information is available in the vector store, so the agent knows how to use it alongside the web tools"
   ]
  },
  {
   "cell_type": "code",
   "execution_count": 8,
   "id": "23007d41",
   "metadata": {},
   "outputs": [],
   "source": [
    "import datetime\n",
    "from langgraph.prebuilt import create_react_agent\n",
    "from langchain_core.prompts import ChatPromptTemplate, MessagesPlaceholder\n",
    "\n",
    "today = datetime.datetime.today().strftime(\"%A, %B %d, %Y\")\n",
    "\n",
    "system_prompt = f\"\"\"\n",
    "You are a ReAct-style research agent equipped with the following tools:\n",
    "\n",
    "        * **Tavily Web Search**\n",
    "        * **Tavily Web Extract**\n",
    "        * **Tavily Web Crawl**\n",
    "        * **Internal Vector Search** (for proprietary CRM data)\n",
    "\n",
    "        Your mission is to conduct comprehensive, accurate, and up-to-date research, using a combination of real-time public web information and internal enterprise knowledge.  All answers must be grounded in retrieved information from the tools provided. You are not permitted to make up information or rely on prior knowledge.\n",
    "\n",
    "        **Today's Date:** {today}\n",
    "\n",
    "        **Available Tools:**\n",
    "\n",
    "        1. **Tavily Web Search**\n",
    "\n",
    "        * **Purpose:** Retrieve relevant web pages based on a query.\n",
    "        * **Usage:** Provide a search query to receive up to 10 semantically ranked results, each containing the title, URL, and a content snippet.\n",
    "        * **Best Practices:**\n",
    "            * Use specific queries to narrow down results.\n",
    "                * Example: \"OpenAI's latest product release\" and \"OpenAI's headquarters location\" rather than \"OpenAI's latest product release and headquarters location\"\n",
    "            * Optimize searches using parameters such as `search_depth`, `time_range`, `include_domains`, and `include_raw_content`.\n",
    "            * Break down complex queries into specific, focused sub-queries.\n",
    "\n",
    "        2. **Tavily Web Crawl**\n",
    "\n",
    "        * **Purpose:** Explore a website's structure and gather content from linked pages for deep research and information discovery from a single source.\n",
    "        * **Usage:** Input a base URL to crawl, specifying parameters such as `max_depth`, `max_breadth`, and `extract_depth`.\n",
    "        * **Best Practices:**\n",
    "\n",
    "            * Begin with shallow crawls and progressively increase depth.\n",
    "            * Utilize `select_paths` or `exclude_paths` to focus the crawl.\n",
    "            * Set `extract_depth` to \"advanced\" for comprehensive extraction.\n",
    "\n",
    "        3. **Tavily Web Extract**\n",
    "\n",
    "        * **Purpose:** Extract the full content from specific web pages.\n",
    "        * **Usage:** Provide URLs to retrieve detailed content.\n",
    "        * **Best Practices:**\n",
    "\n",
    "            * Set `extract_depth` to \"advanced\" for detailed content, including tables and embedded media.\n",
    "            * Enable `include_images` if image data is necessary.\n",
    "\n",
    "        4. **Internal Vector Search**\n",
    "\n",
    "        * **Purpose:** Search the proprietary CRM knowledge base.\n",
    "        * **Usage:** Submit a natural language query to retrieve relevant context from the CRM vector store. Contains context about key accounts like Meta, Apple, Google, Amazon, Microsoft, and Tesla.\n",
    "        * **Best Practices:**\n",
    "            * When possible, refer to specific information, such as names, dates, product usage, or meetings.\n",
    "            \n",
    "\n",
    "        **Guidelines for Conducting Research:**\n",
    "\n",
    "        * You may not answer questions based on prior knowledge or assumptions.\n",
    "        * **Citations:** Always support findings with source URLs, clearly provided as in-text citations.\n",
    "        * **Accuracy:** Rely solely on data obtained via provided tools (web or vector store) —never fabricate information.\n",
    "        * **If none of the tools return useful information, respond:**\n",
    "            * \"I'm sorry, but none of the available tools provided sufficient information to answer this question.\"\n",
    "\n",
    "        **Research Workflow:**\n",
    "\n",
    "        * **Thought:** Consider necessary information and next steps.\n",
    "        * **Action:** Select and execute appropriate tools.\n",
    "        * **Observation:** Analyze obtained results.\n",
    "        **IMPORTANT: Repeat Thought/Action/Observation cycles as needed. You MUST only respond to the user once you have gathered all the information you need.**\n",
    "        * **Final Answer:** Synthesize and present findings with citations in markdown format.\n",
    "        \n",
    "        **Example Workflow:**\n",
    "\n",
    "        **Workflow 4: Combine Web Tools and Vector Search**\n",
    "\n",
    "        **Question:** What has Apple publicly shared about their AI strategy, and do we have any internal notes on recent meetings with them?\n",
    "\n",
    "        * **Thought:** I’ll start by looking for Apple’s public statements on AI using a search.\n",
    "        * **Action:** Tavily Web Search with the query \"Apple AI strategy 2024\" and `time_range` set to \"month\".\n",
    "        * **Observation:** Found a recent article from Apple’s newsroom and a keynote transcript.\n",
    "        * **Thought:** I want to read the full content of Apple’s keynote.\n",
    "        * **Action:** Tavily Web Extract on the URL from the search result.\n",
    "        * **Observation:** Extracted detailed content from Apple’s announcement.\n",
    "        * **Thought:** Now, I’ll check our internal CRM data for recent meeting notes with Apple.\n",
    "        * **Action:** Internal Vector Search with the query \"recent Apple meetings AI strategy\".\n",
    "        * **Observation:** Retrieved notes from a Q2 strategy sync with Apple’s enterprise team.\n",
    "        * **Final Answer:** Synthesized response combining public and internal data, with citations.\n",
    "        ---\n",
    "\n",
    "        You will now receive a research question from the user:\n",
    "\"\"\"\n",
    "\n",
    "hybrid_agent = create_react_agent(\n",
    "    model=llm,\n",
    "    tools=[search, crawl, extract, vector_search_tool],\n",
    "    prompt=ChatPromptTemplate.from_messages(\n",
    "        [\n",
    "            (\"system\", system_prompt),\n",
    "            MessagesPlaceholder(variable_name=\"messages\")\n",
    "        ]\n",
    "    ),\n",
    "    name=\"hybrid_agent\"\n",
    ")"
   ]
  },
  {
   "cell_type": "code",
   "execution_count": 9,
   "id": "e58e5f0a",
   "metadata": {},
   "outputs": [
    {
     "name": "stdout",
     "output_type": "stream",
     "text": [
      "================================\u001b[1m Human Message \u001b[0m=================================\n",
      "\n",
      "Search for the latest news on google relevant to our current CRM data on them\n",
      "==================================\u001b[1m Ai Message \u001b[0m==================================\n",
      "Name: hybrid_agent\n",
      "Tool Calls:\n",
      "  vector_search (85057a0d-e31b-474b-8fbd-b653c69bed8b)\n",
      " Call ID: 85057a0d-e31b-474b-8fbd-b653c69bed8b\n",
      "  Args:\n",
      "    query: CRM data on Google\n",
      "=================================\u001b[1m Tool Message \u001b[0m=================================\n",
      "Name: vector_search\n",
      "\n",
      "[Document(id='b8374cc4-3326-41a0-bf03-ff08336251a8', metadata={'page_label': '1', 'source': './docs\\\\google.pdf', 'title': 'google', 'producer': 'macOS Version 15.1 (Build 24B2083) Quartz PDFContext', 'page': 0, 'creationdate': \"D:20250526163349Z00'00'\", 'creator': 'TextEdit', 'moddate': \"D:20250526163349Z00'00'\", 'total_pages': 1}, page_content='Google\\nContact: Alex Zhang – Sr. Director, Cloud ML Ops\\nSales Stage: Closed Won\\nDeal Size: $310K ARR\\nMeetings:\\nMarch 18: Risk monitoring POC kickoff.\\nApril 10: Training session with model reliability team.\\nNeeds:\\nAlerting on drift in high-traffic models.\\nDashboard integrations with Looker.\\nObjections:\\nNone — deployment complete, expanding to Ads org.\\nInternal Notes:\\nRequested user-level event tagging feature from roadmap.\\nNext Steps:\\nSchedule QBR for July with MLOps stakeholders.'), Document(id='e3db4159-d2a3-4d62-96bb-16b59d8daaf3', metadata={'producer': 'macOS Version 15.1 (Build 24B2083) Quartz PDFContext', 'page_label': '1', 'moddate': \"D:20250526163328Z00'00'\", 'total_pages': 1, 'creationdate': \"D:20250526163328Z00'00'\", 'source': './docs\\\\tesla.pdf', 'page': 0, 'creator': 'TextEdit', 'title': 'tesla'}, page_content='Tesla\\nContact: Nathan Ash – Head of Software Integration\\nSales Stage: Early Demo\\nDeal Size: $600K (initial scope)\\nMeetings:\\nMay 10: Robotics analytics walkthrough.\\nMay 14: Discussion with manufacturing systems team.\\nNeeds:\\nPredictive maintenance alerts for Gigafactory robotics arms.\\nOffline deployment (low latency / no external traffic).\\nObjections:\\nConcern about vendor lock-in; prefers modular system.\\nInternal Notes:\\nUse on-prem reference from Vantage Energy rollout.\\nNext Steps:\\nShare local agent deployment option + performance benchmarks.'), Document(id='e1eee802-be97-42ef-b4d8-06d32ee9d307', metadata={'total_pages': 1, 'title': 'meta', 'producer': 'macOS Version 15.1 (Build 24B2083) Quartz PDFContext', 'creator': 'TextEdit', 'creationdate': \"D:20250526163344Z00'00'\", 'source': './docs\\\\meta.pdf', 'page': 0, 'page_label': '1', 'moddate': \"D:20250526163344Z00'00'\"}, page_content='Meta (Facebook)\\nContact: Jordan Miguel – Director of Platform Strategy\\nSales Stage: Proposal Sent\\nDeal Size: $950K (multi-org rollout)\\nMeetings:\\nMay 1: Advanced segmentation demo.\\nMay 12: Procurement walkthrough.\\nNeeds:\\nPrivacy-safe user behavior analytics for ad optimization.\\nObjections:\\nLegal reviewing cross-border data routing concerns.\\nInternal Notes:\\nCompeting with Mixpanel and Heap.\\nNext Steps:\\nSend updated DPA.\\nFollow up post-policy review (ETA June 7).'), Document(id='95f44b70-8e54-4726-a109-d31fc276937b', metadata={'creator': 'TextEdit', 'moddate': \"D:20250526163338Z00'00'\", 'total_pages': 1, 'creationdate': \"D:20250526163338Z00'00'\", 'page': 0, 'source': './docs\\\\microsoft.pdf', 'title': 'microsoft', 'page_label': '1', 'producer': 'macOS Version 15.1 (Build 24B2083) Quartz PDFContext'}, page_content='Microsoft\\nContact: Jane Doe – Head of AI Platform Partnerships\\nSales Stage: Technical Evaluation (Late Stage)\\nDeal Size: $720K ARR\\nMeetings:\\nApril 4: Architecture deep dive with Azure AI team.\\nMay 2: Compliance & audit alignment workshop.\\nNeeds:\\nIntegration with Azure AI Studio for LLM monitoring.\\nCompliance alerts for multi-tenant AI deployments.\\nObjections:\\nWants FedRAMP Moderate within 6 months.\\nInternal Notes:\\nThey’re replacing an internal tool. Highlight speed + coverage.\\nNext Steps:\\nProvide SOC 2 Type II audit.\\nDraft SOW with legal by June 10.')]\n",
      "==================================\u001b[1m Ai Message \u001b[0m==================================\n",
      "Name: hybrid_agent\n",
      "Tool Calls:\n",
      "  tavily_search (06215e5d-284c-437b-8768-8169b66c5941)\n",
      " Call ID: 06215e5d-284c-437b-8768-8169b66c5941\n",
      "  Args:\n",
      "    time_range: year\n",
      "    query: Google Cloud ML Ops model drift alerting Looker integration news\n",
      "=================================\u001b[1m Tool Message \u001b[0m=================================\n",
      "Name: tavily_search\n",
      "\n",
      "{\"query\": \"Google Cloud ML Ops model drift alerting Looker integration news\", \"follow_up_questions\": null, \"answer\": null, \"images\": [], \"results\": [{\"url\": \"https://www.linkedin.com/posts/rob-staples-3468b613_new-way-now-how-nabc-is-growing-the-blueberry-activity-7363902671482728448-KEFk\", \"title\": \"How NABC transformed with Google Cloud's BigQuery and Looker\", \"content\": \"Exciting news! You can now leverage Google's Gemini and open-source text embedding models directly within BigQuery. I found it interesting that this integration\", \"score\": 0.3935487, \"raw_content\": null}, {\"url\": \"https://cloud.google.com/blog/products/ai-machine-learning/real-world-gen-ai-use-cases-with-technical-blueprints\", \"title\": \"101 real-world gen AI use cases with technical blueprints\", \"content\": \"[Jump to Content](https://cloud.google.com/blog/products/ai-machine-learning/#content) *   [Solutions & technology](https://cloud.google.com/blog/products/ai-machine-learning/real-world-gen-ai-use-cases-with-technical-blueprints) *   [AI & Machine Learning](https://cloud.google.com/blog/products/ai-machine-learning) *   [Security](https://cloud.google.com/blog/products/ai-machine-learning/real-world-gen-ai-use-cases-with-technical-blueprints) *   [Ecosystem](https://cloud.google.com/blog/products/ai-machine-learning/real-world-gen-ai-use-cases-with-technical-blueprints) *   [Industries](https://cloud.google.com/blog/products/ai-machine-learning/real-world-gen-ai-use-cases-with-technical-blueprints) *   [](https://x.com/intent/tweet?text=101+%20gen%20AI%20use%20cases%20with%20technical%20blueprints%20@googlecloud&url=https://cloud.google.com/blog/products/ai-machine-learning/real-world-gen-ai-use-cases-with-technical-blueprints) *   [](https://www.linkedin.com/shareArticle?mini=true&url=https://cloud.google.com/blog/products/ai-machine-learning/real-world-gen-ai-use-cases-with-technical-blueprints&title=101+%20gen%20AI%20use%20cases%20with%20technical%20blueprints) *   [](https://www.facebook.com/sharer/sharer.php?caption=101+%20gen%20AI%20use%20cases%20with%20technical%20blueprints&u=https://cloud.google.com/blog/products/ai-machine-learning/real-world-gen-ai-use-cases-with-technical-blueprints) *   [](mailto:?subject=101+%20gen%20AI%20use%20cases%20with%20technical%20blueprints&body=Check%20out%20this%20article%20on%20the%20Cloud%20Blog:%0A%0A101+%20gen%20AI%20use%20cases%20with%20technical%20blueprints%0A%0AStart%20implementing%20with%20AI.%20Use%20101%20technical%20blueprints%20to%20help%20you%20get%20started%20with%20the%20right%20Google%20Cloud%20tech%20stack.%0A%0Ahttps://cloud.google.com/blog/products/ai-machine-learning/real-world-gen-ai-use-cases-with-technical-blueprints) *   [AI & Machine Learning](https://cloud.google.com/blog/products/ai-machine-learning) [![Image 164: https://storage.googleapis.com/gweb-cloudblog-publish/images/model_garden_proprietary_models.max-700x700.jpg](https://storage.googleapis.com/gweb-cloudblog-publish/images/model_garden_proprietary_models.max-700x700.jpg) AI & Machine Learning ### More choice, more control: self-deploy proprietary models in your VPC with Vertex AI By Prateek Gera • 4-minute read](https://cloud.google.com/blog/products/ai-machine-learning/new-proprietary-models-vertex-model-garden) [![Image 165: https://storage.googleapis.com/gweb-cloudblog-publish/images/09_-_Data_Analytics_tFH57V6.max-700x700.jpg](https://storage.googleapis.com/gweb-cloudblog-publish/images/09_-_Data_Analytics_tFH57V6.max-700x700.jpg) Data Analytics ### Connect Spark data pipelines to Gemini and other AI models with Dataproc ML library By Brad Miro • 3-minute read](https://cloud.google.com/blog/products/data-analytics/gemini-and-vertex-ai-for-spark-with-dataproc-ml-library) [![Image 166: https://storage.googleapis.com/gweb-cloudblog-publish/images/generative_media_momentum.max-700x700.jpg](https://storage.googleapis.com/gweb-cloudblog-publish/images/generative_media_momentum.max-700x700.jpg) AI & Machine Learning ### Building on the bananas momentum of generative media models on Google Cloud By Michael Gerstenhaber • 6-minute read](https://cloud.google.com/blog/products/ai-machine-learning/building-momentum-for-gen-media-including-nano-banana-)\", \"score\": 0.14195836, \"raw_content\": null}, {\"url\": \"https://adastracorp.com/ai-ready-data/\", \"title\": \"AI-Ready Data - Adastra\", \"content\": \"We help you scale AI sustainably by implementing DataOps and MLOps practices. Your models and data pipelines become manageable, maintainable, and ready for long\", \"score\": 0.05906367, \"raw_content\": null}, {\"url\": \"https://www.linkedin.com/posts/jafarnajafov_google-just-dropped-5-new-ai-agents-that-activity-7365049973668851713-if4J\", \"title\": \"Google's 5 new AI agents for developers: BigQuery, Notebook ...\", \"content\": \"Google just dropped 5 new AI agents that automate data pipelines, migrations, notebooks, dashboards, and even GitHub reviews. By clicking Continue to join or sign in, you agree to LinkedIn’s User Agreement, Privacy Policy, and Cookie Policy. Google just dropped 5 new AI agents that automate data pipelines, migrations, notebooks, dashboards, and even GitHub reviews. BigQuery Data Agent Data engineers spend too much time on plumbing writing ETL scripts, fixing schema issues, checking data quality. Google’s 5 new AI agents: 1. Real-time data quality management via AI could be a significant innovation boost *   Image 18 ### The best AI coding assistants Jafar Najafov 2mo *   Image 20 ### AI NEWS: Grok just launched a new tool and it’s more than chat Jafar Najafov 4mo\", \"score\": 0.054666292, \"raw_content\": null}, {\"url\": \"https://www.igmguru.com/blog/future-of-ai-deployment-an-introduction-to-mlops\", \"title\": \"The Future of AI Deployment: An Introduction (Updated 2025)\", \"content\": \"The Future of AI Deployment: An Introduction to MLOps. Go through this to know about the future of AI development.\", \"score\": 0.045087047, \"raw_content\": null}], \"response_time\": 0.99, \"request_id\": \"70090e13-b3c8-4fd7-9de3-cde065090a6b\"}\n",
      "==================================\u001b[1m Ai Message \u001b[0m==================================\n",
      "Name: hybrid_agent\n",
      "Tool Calls:\n",
      "  tavily_search (066d2bcb-8c35-421b-bbdb-0d16a034895b)\n",
      " Call ID: 066d2bcb-8c35-421b-bbdb-0d16a034895b\n",
      "  Args:\n",
      "    time_range: year\n",
      "    query: Google Cloud ML Ops model drift detection alerting news\n",
      "=================================\u001b[1m Tool Message \u001b[0m=================================\n",
      "Name: tavily_search\n",
      "\n",
      "{\"query\": \"Google Cloud ML Ops model drift detection alerting news\", \"follow_up_questions\": null, \"answer\": null, \"images\": [], \"results\": [{\"url\": \"https://cloud.google.com/blog/products/ai-machine-learning/real-world-gen-ai-use-cases-with-technical-blueprints\", \"title\": \"101 real-world gen AI use cases with technical blueprints\", \"content\": \"[Jump to Content](https://cloud.google.com/blog/products/ai-machine-learning/#content) *   [Solutions & technology](https://cloud.google.com/blog/products/ai-machine-learning/real-world-gen-ai-use-cases-with-technical-blueprints) *   [AI & Machine Learning](https://cloud.google.com/blog/products/ai-machine-learning) *   [Security](https://cloud.google.com/blog/products/ai-machine-learning/real-world-gen-ai-use-cases-with-technical-blueprints) *   [Ecosystem](https://cloud.google.com/blog/products/ai-machine-learning/real-world-gen-ai-use-cases-with-technical-blueprints) *   [Industries](https://cloud.google.com/blog/products/ai-machine-learning/real-world-gen-ai-use-cases-with-technical-blueprints) *   [](https://x.com/intent/tweet?text=101+%20gen%20AI%20use%20cases%20with%20technical%20blueprints%20@googlecloud&url=https://cloud.google.com/blog/products/ai-machine-learning/real-world-gen-ai-use-cases-with-technical-blueprints) *   [](https://www.linkedin.com/shareArticle?mini=true&url=https://cloud.google.com/blog/products/ai-machine-learning/real-world-gen-ai-use-cases-with-technical-blueprints&title=101+%20gen%20AI%20use%20cases%20with%20technical%20blueprints) *   [](https://www.facebook.com/sharer/sharer.php?caption=101+%20gen%20AI%20use%20cases%20with%20technical%20blueprints&u=https://cloud.google.com/blog/products/ai-machine-learning/real-world-gen-ai-use-cases-with-technical-blueprints) *   [](mailto:?subject=101+%20gen%20AI%20use%20cases%20with%20technical%20blueprints&body=Check%20out%20this%20article%20on%20the%20Cloud%20Blog:%0A%0A101+%20gen%20AI%20use%20cases%20with%20technical%20blueprints%0A%0AStart%20implementing%20with%20AI.%20Use%20101%20technical%20blueprints%20to%20help%20you%20get%20started%20with%20the%20right%20Google%20Cloud%20tech%20stack.%0A%0Ahttps://cloud.google.com/blog/products/ai-machine-learning/real-world-gen-ai-use-cases-with-technical-blueprints) *   [AI & Machine Learning](https://cloud.google.com/blog/products/ai-machine-learning) [![Image 164: https://storage.googleapis.com/gweb-cloudblog-publish/images/model_garden_proprietary_models.max-700x700.jpg](https://storage.googleapis.com/gweb-cloudblog-publish/images/model_garden_proprietary_models.max-700x700.jpg) AI & Machine Learning ### More choice, more control: self-deploy proprietary models in your VPC with Vertex AI By Prateek Gera • 4-minute read](https://cloud.google.com/blog/products/ai-machine-learning/new-proprietary-models-vertex-model-garden) [![Image 165: https://storage.googleapis.com/gweb-cloudblog-publish/images/09_-_Data_Analytics_tFH57V6.max-700x700.jpg](https://storage.googleapis.com/gweb-cloudblog-publish/images/09_-_Data_Analytics_tFH57V6.max-700x700.jpg) Data Analytics ### Connect Spark data pipelines to Gemini and other AI models with Dataproc ML library By Brad Miro • 3-minute read](https://cloud.google.com/blog/products/data-analytics/gemini-and-vertex-ai-for-spark-with-dataproc-ml-library) [![Image 166: https://storage.googleapis.com/gweb-cloudblog-publish/images/generative_media_momentum.max-700x700.jpg](https://storage.googleapis.com/gweb-cloudblog-publish/images/generative_media_momentum.max-700x700.jpg) AI & Machine Learning ### Building on the bananas momentum of generative media models on Google Cloud By Michael Gerstenhaber • 6-minute read](https://cloud.google.com/blog/products/ai-machine-learning/building-momentum-for-gen-media-including-nano-banana-)\", \"score\": 0.98537, \"raw_content\": null}, {\"url\": \"https://www.xoriant.com/blog/why-mlops-is-critical-for-scalable-ai-deployment-in-the-enterprise\", \"title\": \"Why MLOps is Critical for Scalable AI Deployment in the Enterprise\", \"content\": \"## Why MLOps is Critical for Scalable AI Deployment in the Enterprise # Why MLOps is Critical for Scalable AI Deployment in the Enterprise MLOps is the critical backbone for scalable, enterprise-ready AI adoption. They achieve these benefits through faster deployment cycles, better governance, and more efficient collaboration among AI, data, and operations teams. ## Why MLOps is Critical for Enterprise AI Adoption MLOps acts as the operational backbone, making AI systems as dependable as enterprise software. MLOps streamlines the entire ML life cycle ranging from data validation, model training, testing, deployment, and monitoring, to allow AI systems to scale with business demands. MLOps is the foundation of enterprise AI success. **Q2: What happens if enterprises try AI without MLOps?**\", \"score\": 0.98129, \"raw_content\": null}, {\"url\": \"https://www.forbes.com/councils/forbestechcouncil/2025/10/10/cloud-observability-challenges-at-scale-and-how-to-solve-them/\", \"title\": \"Cloud Observability Challenges At Scale (And How To Solve Them)\", \"content\": \"Track AI model versioning, log usage and monitor drift. Embed AI observability tools with alerts. Strong observability and governance ensure performance\", \"score\": 0.97776, \"raw_content\": null}, {\"url\": \"https://www.finextra.com/blogposting/29579/managing-ai-and-ml-pipelines-in-fintech-governance-drift-explainability-and-risk-controls\", \"title\": \"Managing AI and ML Pipelines in Fintech: Governance, Drift ...\", \"content\": \"Detecting drift before damage: In a live financial system, model degradation can quickly translate into real loss — missed fraud signals, unfair credit declines\", \"score\": 0.9741, \"raw_content\": null}, {\"url\": \"https://cloudnativenow.com/topics/cloudnativedevelopment/kubernetes/mlops-in-the-cloud-native-era-scaling-ai-ml-workloads-with-kubernetes-and-serverless-architectures/\", \"title\": \"MLOps in the Cloud-Native Era — Scaling AI/ML Workloads with ...\", \"content\": \"# MLOps in the Cloud-Native Era — Scaling AI/ML Workloads with Kubernetes and Serverless Architectures By leveraging Kubernetes and serverless computing, organizations can scale artificial intelligence (AI)/ML workloads efficiently while ensuring reliability, security and cost optimization. Before cloud-native MLOps came into the picture, scaling ML models was a cumbersome process. ### Kubernetes for MLOps: The Foundation of Cloud-Native AI While Kubernetes provides flexibility, serverless architectures offer a pay-as-you-go model, making them ideal for event-driven AI/ML workloads. MLOps in the cloud-native era is revolutionizing AI deployment by combining Kubernetes for scalable training and serverless architectures for cost-efficient inference. As enterprises continue their cloud-native transformation, embracing MLOps best practices will be key to unlocking the full potential of AI at scale.\", \"score\": 0.97076, \"raw_content\": null}], \"response_time\": 1.64, \"request_id\": \"a8df0b6b-70d9-4e12-89d9-00a0a90a0104\"}\n",
      "==================================\u001b[1m Ai Message \u001b[0m==================================\n",
      "Name: hybrid_agent\n",
      "\n",
      "Our CRM data indicates Google's interest in \"Alerting on drift in high-traffic models\" and \"Dashboard integrations with Looker,\" along with a request for a \"user-level event tagging feature from roadmap.\"\n",
      "\n",
      "Here's the latest news relevant to these areas:\n",
      "\n",
      "*   **Looker Integration:** Google is enabling the use of Gemini and open-source text embedding models directly within BigQuery and Looker, enhancing dashboard integrations [1].\n",
      "*   **Model Drift Alerting:** Forbes highlighted the importance of tracking AI model versioning, usage logging, and drift monitoring, along with embedding AI observability tools with alerts to ensure performance in cloud observability [3].\n",
      "*   **AI Agents for Automation:** Google has released five new AI agents designed to automate data pipelines, migrations, notebooks, dashboards, and GitHub reviews, which could indirectly contribute to improved MLOps and alerting capabilities [4].\n",
      "*   **General AI/ML Advancements:** Google Cloud's blog features \"101 real-world gen AI use cases with technical blueprints,\" showcasing their continuous development in AI and Machine Learning [2].\n",
      "\n",
      "While there isn't specific news about a \"user-level event tagging feature from roadmap,\" the broader advancements in AI, MLOps, and Looker integration align with Google's stated needs.\n",
      "\n",
      "**Citations:**\n",
      "[1] https://www.linkedin.com/posts/rob-staples-3468b613_new-way-now-how-nabc-is-growing-the-blueberry-activity-7363902671482728448-KEFk\n",
      "[2] https://cloud.google.com/blog/products/ai-machine-learning/real-world-gen-ai-use-cases-with-technical-blueprints\n",
      "[3] https://www.forbes.com/councils/forbestechcouncil/2025/10/10/cloud-observability-challenges-at-scale-and-how-to-solve-them/\n",
      "[4] https://www.linkedin.com/posts/jafarnajafov_google-just-dropped-5-new-ai-agents-that-activity-7365049973668851713-if4J\n"
     ]
    }
   ],
   "source": [
    "from langchain.schema import HumanMessage\n",
    "\n",
    "inputs = {\n",
    "    \"messages\": [\n",
    "        HumanMessage(\n",
    "            content=\"Search for the latest news on google relevant to our current CRM data on them\"\n",
    "        )\n",
    "    ]\n",
    "}\n",
    "\n",
    "for s in hybrid_agent.stream(inputs, stream_mode=\"values\"):\n",
    "    message = s[\"messages\"][-1]\n",
    "    if isinstance(message, tuple):\n",
    "        print(message)\n",
    "    else: \n",
    "        message.pretty_print()"
   ]
  },
  {
   "cell_type": "code",
   "execution_count": 10,
   "id": "710f5064",
   "metadata": {},
   "outputs": [
    {
     "data": {
      "text/markdown": [
       "Our CRM data indicates Google's interest in \"Alerting on drift in high-traffic models\" and \"Dashboard integrations with Looker,\" along with a request for a \"user-level event tagging feature from roadmap.\"\n",
       "\n",
       "Here's the latest news relevant to these areas:\n",
       "\n",
       "*   **Looker Integration:** Google is enabling the use of Gemini and open-source text embedding models directly within BigQuery and Looker, enhancing dashboard integrations [1].\n",
       "*   **Model Drift Alerting:** Forbes highlighted the importance of tracking AI model versioning, usage logging, and drift monitoring, along with embedding AI observability tools with alerts to ensure performance in cloud observability [3].\n",
       "*   **AI Agents for Automation:** Google has released five new AI agents designed to automate data pipelines, migrations, notebooks, dashboards, and GitHub reviews, which could indirectly contribute to improved MLOps and alerting capabilities [4].\n",
       "*   **General AI/ML Advancements:** Google Cloud's blog features \"101 real-world gen AI use cases with technical blueprints,\" showcasing their continuous development in AI and Machine Learning [2].\n",
       "\n",
       "While there isn't specific news about a \"user-level event tagging feature from roadmap,\" the broader advancements in AI, MLOps, and Looker integration align with Google's stated needs.\n",
       "\n",
       "**Citations:**\n",
       "[1] https://www.linkedin.com/posts/rob-staples-3468b613_new-way-now-how-nabc-is-growing-the-blueberry-activity-7363902671482728448-KEFk\n",
       "[2] https://cloud.google.com/blog/products/ai-machine-learning/real-world-gen-ai-use-cases-with-technical-blueprints\n",
       "[3] https://www.forbes.com/councils/forbestechcouncil/2025/10/10/cloud-observability-challenges-at-scale-and-how-to-solve-them/\n",
       "[4] https://www.linkedin.com/posts/jafarnajafov_google-just-dropped-5-new-ai-agents-that-activity-7365049973668851713-if4J"
      ],
      "text/plain": [
       "<IPython.core.display.Markdown object>"
      ]
     },
     "execution_count": 10,
     "metadata": {},
     "output_type": "execute_result"
    }
   ],
   "source": [
    "from IPython.display import Markdown\n",
    "\n",
    "Markdown(message.content)"
   ]
  },
  {
   "cell_type": "code",
   "execution_count": 11,
   "id": "e6697db5",
   "metadata": {},
   "outputs": [
    {
     "name": "stdout",
     "output_type": "stream",
     "text": [
      "================================\u001b[1m Human Message \u001b[0m=================================\n",
      "\n",
      "Check for the Google Deal size and find the latest earnings report for them to validate if they are in spending spree\n",
      "==================================\u001b[1m Ai Message \u001b[0m==================================\n",
      "Name: hybrid_agent\n",
      "Tool Calls:\n",
      "  tavily_search (e1762a04-f5f0-4ed7-9c8e-e97260ea25f5)\n",
      " Call ID: e1762a04-f5f0-4ed7-9c8e-e97260ea25f5\n",
      "  Args:\n",
      "    search_depth: advanced\n",
      "    query: Google deal size OR Google acquisitions\n",
      "=================================\u001b[1m Tool Message \u001b[0m=================================\n",
      "Name: tavily_search\n",
      "\n",
      "{\"query\": \"Google deal size OR Google acquisitions\", \"follow_up_questions\": null, \"answer\": null, \"images\": [], \"results\": [{\"url\": \"https://www.forex.com/en-us/trading-guides/google-acquisition-history/\", \"title\": \"Google's Biggest Acquisitions: What Does Google Own? - FOREX.com\", \"content\": \"Google’s biggest acquisition to date is Motorola Mobility, which it bought for $12.5 billion but was later sold to Lenovo for just a quarter of the price ($2.9 billion). Of Google’s current holdings, the largest acquisition deal was Nest for $3.2 billion.\\n\\nHere are Google’s ten biggest acquisitions. [...] Google owns approximately 256 companies for a total cost of about $20.89 billion. A lot of the businesses Google has acquired were all for their tech. What Google can’t do internally, it buys and incorporates into its own operations. The companies Google has acquired span industries such as social platforms, advertising, and cybersecurity.\\n\\n## Google's biggest acquisitions [...] 1. Motorola Mobility, 2012, Telecommunications, $12.5 billion\\n2. Nest, 2014, Home automation, $3.2 billion\\n3. DoubleClick, 2007, Online advertising, $3.1 billion\\n4. Looker, 2019, Data analytics, $2.6 billion\\n5. Fitbit, 2007, Consumer electronics, $2.1 billion\\n6. YouTube, 2005, Online video platform, $1.65 billion\\n7. Waze, 2007, GPS navigation software, $1.3 billion\\n8. HTC, 2017, Telecommunications, $1.1 billion\\n9. AdMob, 2006, Mobile advertising, $750 million\", \"score\": 0.7663815, \"raw_content\": null}, {\"url\": \"https://www.cbinsights.com/research/google-biggest-acquisitions-infographic/\", \"title\": \"Infographic: Google's Biggest Acquisitions - CB Insights\", \"content\": \"Google has spent nearly $65B on its top 10 acquisitions.\\n All 10 of the top deals pictured had valuations greater than $1B, including marketing solutions provider DoubleClick ($3.1B, 2007) and navigation app Waze ($1.15B, 2013). YouTube ($1.7B, 2006) was Google’s first $1B+ acquisition. [...] Its biggest acquisition to date came in March 2025, when it bought cloud security company Wiz for $33B — nearly 3x the value of its $12.5B acquisition of Motorola Mobility in 2012. (It sold Motorola Mobility off after just 2 years for a quarter of the acquisition price.)  \\n\\nUsing CB Insights M&A data, we made a visual timeline of the largest acquisitions in Google’s history. See the list of top 10 below.\\n\\nPlease click to enlarge.\\n\\n## Google’s top 10 acquisitions: [...] Google's $33B acquisition of cloud security firm Wiz is its largest acquisition to date. See the rest of the top 10 in one graphic.\\n\\n March 20, 2025\\n\\n March 20, 2025\\n\\nGoogle has disclosed over 270 acquisitions in its history.\", \"score\": 0.73755574, \"raw_content\": null}, {\"url\": \"https://en.wikipedia.org/wiki/List_of_mergers_and_acquisitions_by_Alphabet\", \"title\": \"List of mergers and acquisitions by Alphabet - Wikipedia\", \"content\": \"Following the acquisition of Israel-based startup Waze in June 2013, Google submitted a 10-Q filing with the Securities Exchange Commission (SEC) that revealed that the corporation spent $1.3 billion on acquisitions during the first half of 2013, with $966 million of that total going to Waze.(\\n\\nKey Acquisitions\\n\\n[edit]\\n\\nIn October 2006, Google announced that it had acquired the video-sharing site YouTube for $1.65 billion in Google stock,( and the deal was finalized on November 13, 2006.( [...] On April 13, 2007, Google reached an agreement to acquire DoubleClick for $3.1 billion, transferring to Google valuable relationships that DoubleClick had with Web publishers and advertising agencies.( The deal was approved despite anti-trust concerns raised by competitors Microsoft and AT&T.( [...] | 246 | October 18, 2021 | MuJoCo | Robotics simulator | — | Google DeepMind | ( |\\n| 247 | January 4, 2022 | Siemplify | Cybersecurity | Image 120Israel | $500,000,000 | Google Cloud Platform | ( |\\n| 248 | March 8, 2022 | Mandiant | Image 121United States | $5,400,000,000 | ( |\\n| 249 | March 16, 2022 | Raxium | AR hardware | $1,000,000,000 |  | ( |\\n| 250 | April 22, 2022 | Vicarious \\\"Vicarious (company)\\\") | Artificial intelligence, robotics software | — | Intrinsic | ( |\", \"score\": 0.685971, \"raw_content\": null}, {\"url\": \"https://insights.greyb.com/google-subsidiaries-acquisition/\", \"title\": \"Google Subsidiaries and Acquisitions - Insights;Gate\", \"content\": \"1. Cameyo (June 5, 2024) – Enhances Google’s cloud services.\\n2. Equalum (December 19, 2023) – Focuses on data integration and analytics.\\n3. Photomath (February 27, 2023) – AI-driven math problem-solving app.\\n4. Alter (October 28, 2022) – Augmented reality, acquired for $100 million.\\n5. Sound Life Sciences (October 26, 2022) – AI health monitoring.\\n6. Raxium (March 17, 2022) – MicroLED technology, acquired for $1 billion.\\n7. Mandiant (March 8, 2022) – Cybersecurity, acquired for $5.4 billion. [...] |  |  |  |  |\\n ---  --- |\\n| S.No. | Acquiree Name | Announced Date | Price |\\n| 1 | Cameyo | Jun 5, 2024 | — |\\n| 2 | Equalum | Dec 19, 2023 | — |\\n| 3 | Photomath | Feb 27, 2023 | — |\\n| 4 | Alter | Oct 28, 2022 | $100M |\\n| 5 | Sound Life Sciences | Oct 26, 2022 | — |\\n| 6 | BrightBytes | Oct 11, 2022 | — |\\n| 7 | Phiar Technologies | Sep 20, 2022 | — |\\n| 8 | BreezoMeter | Sep 20, 2022 | — |\\n| 9 | Raxium | Mar 17, 2022 | $1B |\\n| 10 | Mandiant | Mar 8, 2022 | $5.4B | [...] | 59 | LaunchKit | Jul 27, 2016 | — |\\n| 60 | Kifi | Jul 12, 2016 | — |\\n| 61 | Anvato | Jul 7, 2016 | — |\\n| 62 | Moodstocks | Jul 6, 2016 | — |\\n| 63 | Webpass | Jun 22, 2016 | — |\\n| 64 | Synergyse | May 1, 2016 | — |\\n| 65 | Pie | Feb 18, 2016 | — |\\n| 66 | Bebop | Nov 19, 2015 | $380.2M |\\n| 67 | Fly Labs | Nov 6, 2015 | — |\\n| 68 | Digisfera | Oct 17, 2015 | — |\\n| 69 | Divshot | Oct 13, 2015 | — |\\n| 70 | Jibe Mobile | Sep 30, 2015 | — |\\n| 71 | Oyster | Sep 21, 2015 | $30M |\", \"score\": 0.6307082, \"raw_content\": null}, {\"url\": \"https://tracxn.com/d/acquisitions/acquisitions-by-google/__8zKOTB9XR934x_3BSnEVSrmsu3RZtEv3AorQtuBb2Yk\", \"title\": \"List of 262 Acquisitions by Google (Sep 2025) - Tracxn\", \"content\": \"Google has made a total of 262 acquisitions. Peak acquisition years were 2014 with 30, and 2011 and 2010 with 28 each. Activity spans 20 countries, with most frequent acquisitions in United States (201), Canada (15), and United Kingdom (11). Acquisitions covered 128 sectors, prominently Cybersecurity (19), Social Platforms (14), and AdTech (12). Over the last five years (2019-2024), the average number of acquisitions per year was 5. This calendar year, 2 acquisitions have been completed. The [...] | Acquired on | Acquired Company | Acquisition Price | Facilitators | Stake Acquired | Acquisition Multiple |\\n ---  ---  --- |\\n| May 21, 2025 | Galileo AI | Undisclosed  69 | 420 |\\n| Mar 18, 2025 | Wiz | $32B  81 | 543 |\\n| Jun 05, 2024 | Cameyo | Undisclosed  15 | 290 |\\n| Aug 24, 2023 | Equalum | Undisclosed | ICON Corporate Finance | 73 | 219 |\\n| Jan 30, 2023 | Phiar Technologies | Undisclosed  37 | 185 |\\n\\nWant to see the entire list?\\n\\nSign Up for Free\\n\\nNews related to Google's acquisitions [...] Here's the year on year acquisition history of Google:\\n\\n   Number of Total Acquisitions\\n\\n| Year | # Acquisitions |\\n --- |\\n| 2025 | 2 |\\n| 2024 | 1 |\\n| 2023 | 2 |\\n| 2022 | 10 |\\n| 2021 | 6 |\\n| 2020 | 6 |\\n| 2019 | 7 |\\n| 2018 | 11 |\\n| 2017 | 15 |\\n| 2016 | 18 |\\n| 2015 | 22 |\\n| 2014 | 30 |\\n| 2013 | 19 |\\n| 2012 | 11 |\\n| 2011 | 28 |\\n| 2010 | 28 |\\n| 2009 | 9 |\\n| 2008 | 4 |\\n| 2007 | 14 |\\n| 2006 | 6 |\\n| 2005 | 6 |\\n| 2004 | 2 |\\n| 2003 | 2 |\\n| 2001 | 1 |\\n| 1999 | 1 |\", \"score\": 0.61251885, \"raw_content\": null}], \"response_time\": 1.66, \"request_id\": \"bb766ee2-2a86-4eb6-ac0f-3d5142c0d7f4\"}\n",
      "==================================\u001b[1m Ai Message \u001b[0m==================================\n",
      "Name: hybrid_agent\n",
      "Tool Calls:\n",
      "  tavily_search (cbbefc73-8f46-4dcf-a272-343da88cc098)\n",
      " Call ID: cbbefc73-8f46-4dcf-a272-343da88cc098\n",
      "  Args:\n",
      "    time_range: year\n",
      "    search_depth: advanced\n",
      "    query: Google latest earnings report 2025\n",
      "=================================\u001b[1m Tool Message \u001b[0m=================================\n",
      "Name: tavily_search\n",
      "\n",
      "{\"query\": \"Google latest earnings report 2025\", \"follow_up_questions\": null, \"answer\": null, \"images\": [], \"results\": [{\"url\": \"https://finance.yahoo.com/news/alphabet-inc-goog-q2-2025-071346968.html\", \"title\": \"Alphabet Inc (GOOG) Q2 2025 Earnings Call Highlights\", \"content\": \"Alphabet Inc (GOOG) Q2 2025 Earnings Call Highlights: Strong Revenue Growth and AI Momentum ; Consolidated Revenue: $96.4 billion, increased by 14% year-over-\", \"score\": 0.8803145, \"raw_content\": null}, {\"url\": \"https://finance.yahoo.com/news/alphabet-goog-surged-following-favorable-135018862.html\", \"title\": \"Alphabet (GOOG) Surged Following Favorable Ruling in Antitrust ...\", \"content\": \"In the second quarter of 2025, Alphabet Inc. (NASDAQ: GOOG) achieved a revenue of $96.4 billion, representing an increase of 14% compared to Q2 2024. While we\", \"score\": 0.7938904, \"raw_content\": null}, {\"url\": \"https://abc.xyz/investor/events/event-details/2025/2025-Q1-Earnings-Call/\", \"title\": \"2025 Q1 Earnings Call - Alphabet Investor Relations\", \"content\": \"Google Services operating income increased 17% to $32.7 billion, and operating margin increased from 39.6% to 42.3%. Turning to the Google Cloud segment, which\", \"score\": 0.7460839, \"raw_content\": null}, {\"url\": \"https://www.nasdaq.com/market-activity/stocks/goog/earnings\", \"title\": \"Alphabet Inc. Class C Capital Stock (GOOG) Earnings Report Date\", \"content\": \"Nasdaq provides visual representation of analyst expected earnings growth. Read our earnings report guide before you consider the forecast information when making investment decisions. Visit the Earnings Calendar to see dates for upcoming earnings announcements.\\n\\n### Trending Stocks\\n\\n|  |\\n\\n|  |  |  |  |\\n|  |  |  |  |\\n\\n### Trending ETFs\\n\\n|  |\\n\\n|  |  |  |  |\\n|  |  |  |  |\\n\\n### Trending Indexes\\n\\n|  |\\n\\n|  |  |  |  |\\n|  |  |  |  |\\n\\n© 2025, Nasdaq, Inc. All Rights Reserved.\\n\\nTo add symbols: [...] |  |  |  |  |  |\\n ---  --- \\n|  |  |  |  |  |  |\\n|  |  |  |  |  |  |\\n|  |  |  |  |  |  |\\n|  |  |  |  |  |  |\\n|  |  |  |  |  |  |\\n|  |  |  |  |  |  |\\n|  |  |  |  |  |  |\\n|  |  |  |  |  |  |\\n\\nInformation\\n\\n## Change in Consensus\\n\\n|  |\\n\\n|  |\\n\\nInformation\\n\\n## Number of Estimates Changed\\n\\n|  |  |\\n --- |\\n|  |  |  |\\n|  |  |  |\\n|  |  |  |\\n|  |  |  |\\n\\nInformation\\n\\n### Symbol Search\\n\\n### Recently Viewed\\n\\n|  |\\n\\n|  |\\n|  |\\n|  |\\n\\n## About Earnings Date [...] Type a symbol or company name. When the symbol you want to add appears, add it to My Quotes by selecting it and pressing Enter/Return.\\n Copy and paste multiple symbols separated by spaces.\\n\\nThese symbols will be available throughout the site during your session.\\n\\n Type a symbol or company name. When the symbol you want to add appears, add it to My Quotes by selecting it and pressing Enter/Return.\\n Copy and paste multiple symbols separated by spaces.\", \"score\": 0.5063723, \"raw_content\": null}, {\"url\": \"https://www.trefis.com/stock/googl/articles/578791/how-alphabet-stock-climbed-34-in-3-months/2025-10-10\", \"title\": \"How Alphabet Stock Climbed 34% in 3 Months? - Trefis\", \"content\": \"|  | 7112025 | 10092025 | Change |\\n ---  --- |\\n| Stock Price ($) | 180.0 | 241.5 | 34.2% |\\n| Change Contribution By | LTM | LTM |  |\\n| Total Revenues ($ Mil) | 359,713.0 | 371,399.0 | 3.3% |\\n| Net Income Margin (%) | 30.9% | 31.1% | 0.8% |\\n| P/E Multiple | 19.8 | 25.3 | 28.2% |\\n| Shares Outstanding (Mil) | 12,183.0 | 12,122.0 | 0.5% |\\n| Cumulative Contribution |  |  | 34.2% | [...] Trefis\\n\\n# How Alphabet Stock Climbed 34% in 3 Months?\\n\\nGOOGL: Alphabet logo\\n\\nFrom quantitative point of view, The 34.2% change in Alphabet (GOOGL) stock from 7/11/2025 to 10/9/2025 was primarily driven by a 28.2% change in the company’s P/E Multiple. There is more to this story than just numbers, but first, let’s break down the stock price movement into its contributing factors. [...] Stocks, Bonds, Gold, Crypto: Market Update 10/15/2025\\n\\nConcentrix Stock To $37?\\n\\nMotorola Solutions Stock Lost 7.9%, Buy Or Wait?\\n\\n#### EXPLORE TREFIS\\n\\n©Copyright 2019 Insight Guru Inc. All Rights Reserved.\\n\\nBy using the Site, you agree to be bound by our Terms of\\nUse. Financial market data powered by Quotemedia.com.\\nConsensus EPS estimates are from QuoteMedia and are updated every weekday.\\nAll rights reserved.\", \"score\": 0.48074743, \"raw_content\": null}], \"response_time\": 3.15, \"request_id\": \"b6c67a7f-7415-494a-8c39-7c536a88e109\"}\n",
      "==================================\u001b[1m Ai Message \u001b[0m==================================\n",
      "Name: hybrid_agent\n",
      "\n",
      "Google has made a number of significant acquisitions throughout its history. Its largest acquisition to date is the cloud security company Wiz for $33 billion in March 2025. Other notable acquisitions include Motorola Mobility for $12.5 billion (later sold), Nest for $3.2 billion, DoubleClick for $3.1 billion, and YouTube for $1.65 billion. Google has acquired approximately 256 companies for a total cost of about $20.89 billion (excluding the Wiz acquisition). In the last five years (2019-2024), Google averaged 5 acquisitions per year, with 2 acquisitions completed in 2025 so far (as of September 2025). This includes Galileo AI and Wiz in 2025. [https://www.forex.com/en-us/trading-guides/google-acquisition-history/](https://www.forex.com/en-us/trading-guides/google-acquisition-history/) [https://www.cbinsights.com/research/google-biggest-acquisitions-infographic/](https://www.cbinsights.com/research/google-biggest-acquisitions-infographic/) [https://tracxn.com/d/acquisitions/acquisitions-by-google/__8zKOTB9XR934x_3BSnEVSrmsu3RZtEv3AorQtuBb2Yk](https://tracxn.com/d/acquisitions/acquisitions-by-google/__8zKOTB9XR934x_3BSnEVSrmsu3RZtEv3AorQtuBb2Yk)\n",
      "\n",
      "In terms of their latest earnings, Alphabet Inc. (Google's parent company) reported a consolidated revenue of $96.4 billion in Q2 2025, which is a 14% increase compared to Q2 2024. Google Services operating income increased 17% to $32.7 billion, and the operating margin increased from 39.6% to 42.3%. [https://finance.yahoo.com/news/alphabet-inc-goog-q2-2025-071346968.html](https://finance.yahoo.com/news/alphabet-inc-goog-q2-2025-071346968.html) [https://abc.xyz/investor/events/event-details/2025/2025-Q1-Earnings-Call/](https://abc.xyz/investor/events/event-details/2025/2025-Q1-Earnings-Call/)\n",
      "\n",
      "Given the significant acquisition of Wiz for $33 billion in March 2025, along with other acquisitions and strong revenue growth reported in Q2 2025, it suggests that Google is actively investing and expanding, which could be interpreted as a \"spending spree\" in strategic areas, particularly in cloud security.\n"
     ]
    }
   ],
   "source": [
    "\n",
    "# Test the hybrid agent\n",
    "inputs = {\n",
    "    \"messages\": [\n",
    "        HumanMessage(\n",
    "            content=\"Check for the Google Deal size and find the latest earnings report for them to validate if they are in spending spree\"\n",
    "        )\n",
    "    ]\n",
    "}\n",
    "\n",
    "# Stream the agent's response\n",
    "for s in hybrid_agent.stream(inputs, stream_mode=\"values\"):\n",
    "    message = s[\"messages\"][-1]\n",
    "    if isinstance(message, tuple):\n",
    "        print(message)\n",
    "    else:\n",
    "        message.pretty_print()"
   ]
  },
  {
   "cell_type": "code",
   "execution_count": 12,
   "id": "07a85219",
   "metadata": {},
   "outputs": [
    {
     "data": {
      "text/markdown": [
       "Google has made a number of significant acquisitions throughout its history. Its largest acquisition to date is the cloud security company Wiz for $33 billion in March 2025. Other notable acquisitions include Motorola Mobility for $12.5 billion (later sold), Nest for $3.2 billion, DoubleClick for $3.1 billion, and YouTube for $1.65 billion. Google has acquired approximately 256 companies for a total cost of about $20.89 billion (excluding the Wiz acquisition). In the last five years (2019-2024), Google averaged 5 acquisitions per year, with 2 acquisitions completed in 2025 so far (as of September 2025). This includes Galileo AI and Wiz in 2025. [https://www.forex.com/en-us/trading-guides/google-acquisition-history/](https://www.forex.com/en-us/trading-guides/google-acquisition-history/) [https://www.cbinsights.com/research/google-biggest-acquisitions-infographic/](https://www.cbinsights.com/research/google-biggest-acquisitions-infographic/) [https://tracxn.com/d/acquisitions/acquisitions-by-google/__8zKOTB9XR934x_3BSnEVSrmsu3RZtEv3AorQtuBb2Yk](https://tracxn.com/d/acquisitions/acquisitions-by-google/__8zKOTB9XR934x_3BSnEVSrmsu3RZtEv3AorQtuBb2Yk)\n",
       "\n",
       "In terms of their latest earnings, Alphabet Inc. (Google's parent company) reported a consolidated revenue of $96.4 billion in Q2 2025, which is a 14% increase compared to Q2 2024. Google Services operating income increased 17% to $32.7 billion, and the operating margin increased from 39.6% to 42.3%. [https://finance.yahoo.com/news/alphabet-inc-goog-q2-2025-071346968.html](https://finance.yahoo.com/news/alphabet-inc-goog-q2-2025-071346968.html) [https://abc.xyz/investor/events/event-details/2025/2025-Q1-Earnings-Call/](https://abc.xyz/investor/events/event-details/2025/2025-Q1-Earnings-Call/)\n",
       "\n",
       "Given the significant acquisition of Wiz for $33 billion in March 2025, along with other acquisitions and strong revenue growth reported in Q2 2025, it suggests that Google is actively investing and expanding, which could be interpreted as a \"spending spree\" in strategic areas, particularly in cloud security."
      ],
      "text/plain": [
       "<IPython.core.display.Markdown object>"
      ]
     },
     "execution_count": 12,
     "metadata": {},
     "output_type": "execute_result"
    }
   ],
   "source": [
    "Markdown(message.content)"
   ]
  },
  {
   "cell_type": "markdown",
   "id": "a6c0cde7",
   "metadata": {},
   "source": [
    "### **Conclusion**"
   ]
  },
  {
   "cell_type": "markdown",
   "id": "516fe430",
   "metadata": {},
   "source": [
    "Throughout these tutorials, you've learned how to:\n",
    "- **Set up the Tavily API** for real-time web search, extraction and crawling.\n",
    "- **Design agent architectures** that combine both web and internal knowledge sources.\n",
    "- **Integrate multiple tools** - including web search, extract, crawling and vector search - into a unified, powerful agent system.\n",
    "- **Apply these agents** to real-world scenarios, such as researching companies and analyzing news.\n",
    "\n",
    "By leveraging Tavily's web API, your agents can now access up-to-date information beyond their training data, making them more effective and relevant for dynamic business."
   ]
  },
  {
   "cell_type": "code",
   "execution_count": null,
   "id": "f7ef27fc",
   "metadata": {},
   "outputs": [],
   "source": []
  }
 ],
 "metadata": {
  "kernelspec": {
   "display_name": "ai-agent-tutorials",
   "language": "python",
   "name": "python3"
  },
  "language_info": {
   "codemirror_mode": {
    "name": "ipython",
    "version": 3
   },
   "file_extension": ".py",
   "mimetype": "text/x-python",
   "name": "python",
   "nbconvert_exporter": "python",
   "pygments_lexer": "ipython3",
   "version": "3.12.11"
  }
 },
 "nbformat": 4,
 "nbformat_minor": 5
}
