{
 "cells": [
  {
   "cell_type": "markdown",
   "id": "5637de06",
   "metadata": {},
   "source": [
    "## **Combine Internal Data with Web Data**"
   ]
  },
  {
   "cell_type": "markdown",
   "id": "5282ef3d",
   "metadata": {},
   "source": [
    "### **Introduction**"
   ]
  },
  {
   "cell_type": "markdown",
   "id": "288d4fa0",
   "metadata": {},
   "source": [
    "In this tutorial, you'll discover how to build a **hybrid agent** that combines real-time web data with your own internal knowledge sources. For enterprises, the true power of agents comes from integrating proprietary internal data with information from the public web.\n",
    "\n",
    "By the end, you'll be able to:\n",
    "- **Integrate** web search results and private documents into a single agent workflow\n",
    "- **Enable** your agent to compare, contrast and synthesize information from both public and internal sources\n",
    "- **Build** more accurate, up-to-date, and context-aware applications for research, analysis, and decision-making\n",
    "\n",
    "> **Why is this approach valuable?**\n",
    "> \n",
    "> It empowers your AI to answer questions with the most current information avaiable online, while also leveraging your proprietary data - just like a human expert would.\n",
    ">\n",
    "> You'll unlock new capabilities for market research, competitive intelligence, and any scenario where both internal and external knowledge matter."
   ]
  },
  {
   "cell_type": "markdown",
   "id": "261d24ac",
   "metadata": {},
   "source": [
    "### **Setting Up**"
   ]
  },
  {
   "cell_type": "code",
   "execution_count": 1,
   "id": "56afbcd9",
   "metadata": {},
   "outputs": [],
   "source": [
    "# install dependencies\n",
    "!uv add tavily-python langchain-google-genai langchain-chroma langchain langchain-tavily langgraph python-dotenv --quiet"
   ]
  },
  {
   "cell_type": "code",
   "execution_count": 2,
   "id": "dbc441f9",
   "metadata": {},
   "outputs": [
    {
     "name": "stdout",
     "output_type": "stream",
     "text": [
      "Get API_KEY successfully\n"
     ]
    }
   ],
   "source": [
    "import os\n",
    "from dotenv import load_dotenv\n",
    "\n",
    "load_dotenv()\n",
    "\n",
    "tavily_api_key = os.getenv(\"TAVILY_API_KEY\")\n",
    "gg_api_key = os.getenv(\"GOOGLE_API_KEY\")\n",
    "\n",
    "if tavily_api_key is None or gg_api_key is None:\n",
    "    print(\"Please set up you API_KEY in .env file\")\n",
    "else:\n",
    "    print(\"Get API_KEY successfully\")"
   ]
  },
  {
   "cell_type": "code",
   "execution_count": 3,
   "id": "78b93655",
   "metadata": {},
   "outputs": [
    {
     "name": "stdout",
     "output_type": "stream",
     "text": [
      "Hi there! How can I help you today?\n"
     ]
    }
   ],
   "source": [
    "from tavily import TavilyClient\n",
    "from langchain_google_genai import ChatGoogleGenerativeAI\n",
    "\n",
    "tavily_client = TavilyClient(api_key=tavily_api_key)\n",
    "llm = ChatGoogleGenerativeAI(model = \"gemini-2.5-flash\",\n",
    "                             api_key=gg_api_key)\n",
    "\n",
    "# Test llm setup\n",
    "response = llm.invoke(input=\"Hi\")\n",
    "print(response.content)"
   ]
  },
  {
   "cell_type": "markdown",
   "id": "3cbc72a0",
   "metadata": {},
   "source": [
    "### **Vector Database Set Up**"
   ]
  },
  {
   "cell_type": "code",
   "execution_count": null,
   "id": "cdb7823b",
   "metadata": {},
   "outputs": [],
   "source": [
    "from langchain_chroma import Chroma\n",
    "from langchain_google_genai.embeddings import GoogleGenerativeAIEmbeddings\n",
    "\n",
    "# Initialize the embedding model\n",
    "embedding_model = GoogleGenerativeAIEmbeddings(api_key=gg_api_key, model=\"text-embedding-004\")\n",
    "\n",
    "# Initialize the Chroma vector store\n",
    "vector_store = Chroma(\n",
    "    collection_name=\"crm\",\n",
    "    embedding_function=embedding_model,\n",
    "    \n",
    ")"
   ]
  },
  {
   "cell_type": "code",
   "execution_count": null,
   "id": "5358255e",
   "metadata": {},
   "outputs": [],
   "source": []
  }
 ],
 "metadata": {
  "kernelspec": {
   "display_name": "ai-agent-tutorials",
   "language": "python",
   "name": "python3"
  },
  "language_info": {
   "codemirror_mode": {
    "name": "ipython",
    "version": 3
   },
   "file_extension": ".py",
   "mimetype": "text/x-python",
   "name": "python",
   "nbconvert_exporter": "python",
   "pygments_lexer": "ipython3",
   "version": "3.12.11"
  }
 },
 "nbformat": 4,
 "nbformat_minor": 5
}
