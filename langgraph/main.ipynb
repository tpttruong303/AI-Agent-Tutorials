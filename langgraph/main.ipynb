{
 "cells": [
  {
   "cell_type": "markdown",
   "id": "7da2e664",
   "metadata": {},
   "source": [
    "## **LangGraph Tutorial: Building a Text Analysis Pipeline**"
   ]
  },
  {
   "cell_type": "markdown",
   "id": "8c5ffed7",
   "metadata": {},
   "source": [
    "### **Introduction to LangGraph**"
   ]
  },
  {
   "cell_type": "markdown",
   "id": "e1ebf3de",
   "metadata": {},
   "source": [
    "LangGraph is a powerful framework by LangChain designed for creating stateful, multi-actor applications with LLMs. It provides the structure and tools needed to build sophisticated AI agents through a graph-based approach.\n",
    "\n",
    "Think of LangGraph as an architect's drafting table -  it gives us the tools to design how our agent will think and act. Just as an architect draws blueprints showing how different rooms connect and how people will flow through a building, LangGraph lets us design how different capabilities will connect and how information will flow through our agent.\n",
    "\n",
    "#### **Key Features:**\n",
    "- **State Management**: Maintain persistent state across interations\n",
    "- **Flexible Routing**: Define complex flows between components\n",
    "- **Persistence**: Save and resume workflows\n",
    "- **Visualization**: See and understand your agent's structure\n",
    "\n",
    "In this tutorial, we'll demonstrate LangGraph by building a multi-step text analysis pipeline that processes text through 3 stages:\n",
    "1. **Text Classification:** Categorize input text into predefined categories\n",
    "2. **Entity Extraction:** Identify key entities from the text\n",
    "3. **Text Summarization:** Generate a concise summary of the input text"
   ]
  },
  {
   "cell_type": "markdown",
   "id": "2706e40a",
   "metadata": {},
   "source": [
    "### **Setting Up Enviroment**"
   ]
  },
  {
   "cell_type": "markdown",
   "id": "cbabd2a1",
   "metadata": {},
   "source": [
    "#### Install required packages"
   ]
  },
  {
   "cell_type": "code",
   "execution_count": null,
   "id": "0b21fc1a",
   "metadata": {},
   "outputs": [],
   "source": [
    "!uv add langgraph langchain langchain-google-genai python-dotenv"
   ]
  },
  {
   "cell_type": "markdown",
   "id": "8194d471",
   "metadata": {},
   "source": [
    "#### Setting Up API Keys"
   ]
  },
  {
   "cell_type": "code",
   "execution_count": 10,
   "id": "07ffc8b0",
   "metadata": {},
   "outputs": [
    {
     "name": "stdout",
     "output_type": "stream",
     "text": [
      "GOOGLE_API_KEY is set\n"
     ]
    }
   ],
   "source": [
    "import os\n",
    "from dotenv import load_dotenv\n",
    "\n",
    "# Load env variables from a .env file\n",
    "load_dotenv()\n",
    "\n",
    "gg_api_key = os.getenv(\"GOOGLE_API_KEY\")\n",
    "if not gg_api_key:\n",
    "    raise ValueError(\"GOOGLE_API_KEY environment variable not set\")\n",
    "else:\n",
    "    print(\"GOOGLE_API_KEY is set\")"
   ]
  },
  {
   "cell_type": "markdown",
   "id": "88b472bf",
   "metadata": {},
   "source": [
    "#### Testing Setup"
   ]
  },
  {
   "cell_type": "code",
   "execution_count": 4,
   "id": "11bd019b",
   "metadata": {},
   "outputs": [
    {
     "name": "stdout",
     "output_type": "stream",
     "text": [
      "I'm doing well, thank you for asking! How about you?\n"
     ]
    }
   ],
   "source": [
    "from langchain_google_genai import ChatGoogleGenerativeAI\n",
    "\n",
    "# Initialize the ChatGoogleGenerativeAI instance\n",
    "llm = ChatGoogleGenerativeAI(model=\"gemini-2.5-flash\")\n",
    "\n",
    "# Test the setup\n",
    "response = llm.invoke(\"Hi, how are you?\")\n",
    "print(response.content)"
   ]
  },
  {
   "cell_type": "markdown",
   "id": "af2c1f5e",
   "metadata": {},
   "source": [
    "### **Building Text Analysis Pipeline**"
   ]
  },
  {
   "cell_type": "code",
   "execution_count": 11,
   "id": "2ac28aa2",
   "metadata": {},
   "outputs": [],
   "source": [
    "import os\n",
    "from typing import TypedDict, List, Annotated\n",
    "from langgraph.graph import StateGraph, END\n",
    "from langchain.prompts import PromptTemplate\n",
    "from langchain_google_genai import ChatGoogleGenerativeAI\n",
    "from langchain.schema import HumanMessage\n",
    "from langchain_core.runnables.graph import MermaidDrawMethod\n",
    "from IPython.display import display, Image"
   ]
  },
  {
   "cell_type": "markdown",
   "id": "569eb929",
   "metadata": {},
   "source": [
    "#### **Designing Agent's Memory**\n",
    "\n",
    "Just as human intelligence requires memory, our agent needs a way to keep track of information. We create this using a TypedDict to define our state structure"
   ]
  },
  {
   "cell_type": "code",
   "execution_count": 12,
   "id": "04fd721d",
   "metadata": {},
   "outputs": [],
   "source": [
    "class State(TypedDict):\n",
    "    text: str\n",
    "    classification: str\n",
    "    entities: List[str]\n",
    "    summary: str\n",
    "\n",
    "# Initialize the LLM instance with temperature = 0 for deterministic outputs\n",
    "llm = ChatGoogleGenerativeAI(model=\"gemini-2.5-flash\", temperature=0)"
   ]
  },
  {
   "cell_type": "markdown",
   "id": "594d572b",
   "metadata": {},
   "source": [
    "#### **Creating Agent's Core Capabilities**\n",
    "\n",
    "Now we'll create the actual skills of agent will use. Each of these capabilities is implemented as a function that performs a specific type of analysis."
   ]
  },
  {
   "cell_type": "markdown",
   "id": "b3f6750e",
   "metadata": {},
   "source": [
    "##### **Define agent's capabilities**"
   ]
  },
  {
   "cell_type": "code",
   "execution_count": 13,
   "id": "dfae70d5",
   "metadata": {},
   "outputs": [],
   "source": [
    "# 1. Classification Node\n",
    "def classification_node(state: State):\n",
    "    '''Classify the text into categories like: News, Blog, Research, or Other.'''\n",
    "    prompt = PromptTemplate(\n",
    "        input_variables=[\"text\"],\n",
    "        template=\"Classify the following text into one of these categories: News, Blog, Research, or Other. Just pure text\\n\\nText:{text}\\n\\nCategory:\"\n",
    "    )\n",
    "    message = HumanMessage(content=prompt.format(text=state[\"text\"]))\n",
    "    classification = llm.invoke([message]).content.strip()\n",
    "    \n",
    "    return {\"classification\": classification}"
   ]
  },
  {
   "cell_type": "code",
   "execution_count": 14,
   "id": "7ed8e923",
   "metadata": {},
   "outputs": [],
   "source": [
    "# 2. Entity Extraction Node\n",
    "def entity_extraction_node(state: State):\n",
    "    '''Extract all the entities (Person, Organization, Location) from the text'''\n",
    "    prompt = PromptTemplate(\n",
    "        input_variables=[\"text\"],\n",
    "        template=\"Extract all the entities (Person, Organization, Location, or a specific entity) from the following text. Just pure text. Provide the result as a comma-seperated list.\\n\\nText:{text}\\n\\nCategory:\"\n",
    "    )\n",
    "    message = HumanMessage(content=prompt.format(text=state[\"text\"]))\n",
    "    entities = llm.invoke([message]).content.strip().split(\", \")\n",
    "    \n",
    "    return {\"entities\": entities}"
   ]
  },
  {
   "cell_type": "code",
   "execution_count": 15,
   "id": "16e0db5a",
   "metadata": {},
   "outputs": [],
   "source": [
    "# 3. Summarization Node\n",
    "def summarization_node(state: State):\n",
    "    '''Summarize the text in a short sentence'''\n",
    "    prompt = PromptTemplate(\n",
    "        input_variables=[\"text\"],\n",
    "        template=\"Summarize the following text in one short sentence.\\n\\nText:{text}\\n\\nSummary:\"\n",
    "    )\n",
    "    message = HumanMessage(content=prompt.format(text=state[\"text\"]))\n",
    "    summary = llm.invoke([message]).content.strip()\n",
    "    return {\"summary\": summary}"
   ]
  },
  {
   "cell_type": "markdown",
   "id": "0b1286d7",
   "metadata": {},
   "source": [
    "##### **Bring all the capabilities together**"
   ]
  },
  {
   "cell_type": "code",
   "execution_count": 16,
   "id": "389ba3c5",
   "metadata": {},
   "outputs": [],
   "source": [
    "# Create StateGraph\n",
    "workflow = StateGraph(State)\n",
    "\n",
    "# Add nodes to the graph\n",
    "workflow.add_node(\"classification\", classification_node)\n",
    "workflow.add_node(\"entity_extraction\", entity_extraction_node)\n",
    "workflow.add_node(\"summarization\", summarization_node)\n",
    "\n",
    "# Add edges to the graph\n",
    "workflow.set_entry_point(\"classification\")\n",
    "workflow.add_edge(\"classification\", \"entity_extraction\")\n",
    "workflow.add_edge(\"entity_extraction\", \"summarization\")\n",
    "workflow.add_edge(\"summarization\", END)\n",
    "\n",
    "# Compile the graph\n",
    "app = workflow.compile()"
   ]
  },
  {
   "cell_type": "markdown",
   "id": "39779668",
   "metadata": {},
   "source": [
    "##### **Visualizing the Workflow**"
   ]
  },
  {
   "cell_type": "code",
   "execution_count": 17,
   "id": "77ab77b8",
   "metadata": {},
   "outputs": [
    {
     "data": {
      "image/png": "[encoded data removed]",
      "text/plain": [
       "<IPython.core.display.Image object>"
      ]
     },
     "metadata": {},
     "output_type": "display_data"
    }
   ],
   "source": [
    "try:\n",
    "    display(\n",
    "        Image(\n",
    "            app.get_graph().draw_mermaid_png(\n",
    "                draw_method=MermaidDrawMethod.API\n",
    "            )\n",
    "        )\n",
    "    )\n",
    "except Exception as e:\n",
    "    print(f\"Error generating visualization: {e}\")\n",
    "    print(\"The graph structure is: classification -> entity_extraction -> summarization -> END\")"
   ]
  },
  {
   "cell_type": "markdown",
   "id": "e8332971",
   "metadata": {},
   "source": [
    "### **Testing Agent**"
   ]
  },
  {
   "cell_type": "code",
   "execution_count": 18,
   "id": "2e9d173b",
   "metadata": {},
   "outputs": [
    {
     "name": "stdout",
     "output_type": "stream",
     "text": [
      "Classification: News\n",
      "Entities: ['OpenAI', 'GPT-4', 'GPT-3']\n",
      "Summary: OpenAI has announced GPT-4, a powerful new multimodal AI model with human-level performance and enhanced safety, due for release soon.\n"
     ]
    }
   ],
   "source": [
    "sample_text = \"\"\"\n",
    "OpenAI has announced the GPT-4 model, which is a large multimodal model that exhibits human-level performance on various professional benchmarks. It is developed to improve the alignment and safety of AI systems.\n",
    "Additionally, the model is designed to be more efficient and scalable than its predecessor, GPT-3. The GPT-4 model is expected to be released in the coming months and will be available to the public for research and development purposes.\n",
    "\"\"\"\n",
    "\n",
    "state_input = {\"text\": sample_text}\n",
    "result = app.invoke(state_input)\n",
    "\n",
    "print(\"Classification:\", result[\"classification\"])\n",
    "print(\"Entities:\", result[\"entities\"])\n",
    "print(\"Summary:\", result[\"summary\"])"
   ]
  },
  {
   "cell_type": "markdown",
   "id": "94defe00",
   "metadata": {},
   "source": [
    "### **Understanding the Power of Coordinated Processing**"
   ]
  },
  {
   "cell_type": "markdown",
   "id": "8bec8def",
   "metadata": {},
   "source": [
    "What makes this result particularly impressive isn't just the individual outputs - it's how each step build on the others to create a complete understanding of the text.\n",
    "- The **classification** provides context that helps frame understanding of the text type\n",
    "- The **entity extraction** identifies important names and concepts\n",
    "- The **summarization** distills the essence of the document\n",
    "\n",
    "This mirrors human reading comprehension, where we naturally from an understading of that kind of text it is, note important names and concepts, and form a mental summary - all while maintaining the relationships between these different aspects of understanding."
   ]
  },
  {
   "cell_type": "markdown",
   "id": "165fe529",
   "metadata": {},
   "source": [
    "#### **Try with another text**"
   ]
  },
  {
   "cell_type": "code",
   "execution_count": 19,
   "id": "37f0b137",
   "metadata": {},
   "outputs": [
    {
     "name": "stdout",
     "output_type": "stream",
     "text": [
      "Classification: Research\n",
      "Entities: ['MIT', 'Google']\n",
      "Summary: Quantum computing advancements threaten current encryption but are also driving the development of new, quantum-resistant security solutions.\n"
     ]
    }
   ],
   "source": [
    "text = \"\"\"\n",
    "The recent advancements in quantum computing have opened new possibilities for cryptography and data security. \n",
    "Researchers at MIT and Google have demonstrated quantum algorithms that could potentially break current encryption methods.\n",
    "However, they are also developing new quantum-resistant encryption techniques to protect data in the future.\n",
    "\"\"\"\n",
    "\n",
    "state_input = {\"text\": text}\n",
    "result = app.invoke(state_input)\n",
    "\n",
    "print(\"Classification:\", result[\"classification\"])\n",
    "print(\"Entities:\", result[\"entities\"])\n",
    "print(\"Summary:\", result[\"summary\"])"
   ]
  },
  {
   "cell_type": "markdown",
   "id": "f04c871b",
   "metadata": {},
   "source": [
    "### **Adding More Capabilities (Advanced)**"
   ]
  },
  {
   "cell_type": "markdown",
   "id": "1538b1fe",
   "metadata": {},
   "source": [
    "One of the powerful aspects of LangGraph is how easily we can extend our agent with new capabilities. Let's add a sentiment analysis node to our pipeline:"
   ]
  },
  {
   "cell_type": "code",
   "execution_count": 20,
   "id": "6c8c454b",
   "metadata": {},
   "outputs": [],
   "source": [
    "# Update State to include sentiment\n",
    "class EnhancedState(TypedDict):\n",
    "    text: str\n",
    "    classification: str\n",
    "    entities: List[str]\n",
    "    summary: str\n",
    "    sentiment: str"
   ]
  },
  {
   "cell_type": "code",
   "execution_count": 21,
   "id": "0b88256e",
   "metadata": {},
   "outputs": [],
   "source": [
    "# Create sentiment analysis node\n",
    "def sentiment_node(state: EnhancedState):\n",
    "    '''Analyze the sentiment of the text: Positive, Negative or Neutral'''\n",
    "    prompt = PromptTemplate(\n",
    "        input_variables=[\"text\"],\n",
    "        template=\"Analyze and explain the sentiment of the following text. Just pure text, don't markdown. Is it Positive, Negative or Neutral?\\n\\nText:{text}\\n\\nSentiment:\"\n",
    "    )\n",
    "    message = HumanMessage(content=prompt.format(text=state[\"text\"]))\n",
    "    sentiment = llm.invoke([message]).content.strip()\n",
    "    return {\"sentiment\": sentiment}"
   ]
  },
  {
   "cell_type": "code",
   "execution_count": 22,
   "id": "58efc362",
   "metadata": {},
   "outputs": [],
   "source": [
    "# Create a new workflow with the enhanced state\n",
    "enhanced_workflow = StateGraph(EnhancedState)\n",
    "\n",
    "enhanced_workflow.add_node(\"classification\", classification_node)\n",
    "enhanced_workflow.add_node(\"entity_extraction\", entity_extraction_node)\n",
    "enhanced_workflow.add_node(\"summarization\", summarization_node)\n",
    "enhanced_workflow.add_node(\"sentiment_analysis\", sentiment_node)\n",
    "\n",
    "enhanced_workflow.set_entry_point(\"classification\")\n",
    "enhanced_workflow.add_edge(\"classification\", \"entity_extraction\")\n",
    "enhanced_workflow.add_edge(\"entity_extraction\", \"summarization\")\n",
    "enhanced_workflow.add_edge(\"summarization\", \"sentiment_analysis\")\n",
    "enhanced_workflow.add_edge(\"sentiment_analysis\", END)\n",
    "\n",
    "# Compile the enhanced graph\n",
    "enhanced_app = enhanced_workflow.compile()"
   ]
  },
  {
   "cell_type": "markdown",
   "id": "7a6b5a39",
   "metadata": {},
   "source": [
    "##### **Testing the enhanced Agent**"
   ]
  },
  {
   "cell_type": "code",
   "execution_count": 23,
   "id": "c1669804",
   "metadata": {},
   "outputs": [
    {
     "name": "stdout",
     "output_type": "stream",
     "text": [
      "Classification: Research\n",
      "Entities: ['MIT', 'Google']\n",
      "Summary: Quantum computing advancements both threaten current encryption and drive the development of new, quantum-resistant security methods.\n",
      "Sentiment: Neutral\n"
     ]
    }
   ],
   "source": [
    "enhanced_result = enhanced_app.invoke(state_input)\n",
    "\n",
    "print(\"Classification:\", enhanced_result[\"classification\"])\n",
    "print(\"Entities:\", enhanced_result[\"entities\"])\n",
    "print(\"Summary:\", enhanced_result[\"summary\"])\n",
    "print(\"Sentiment:\", enhanced_result[\"sentiment\"])"
   ]
  },
  {
   "cell_type": "markdown",
   "id": "bb189c0e",
   "metadata": {},
   "source": [
    "### **Adding Conditional Edges to the LangGraph Pipeline (Advanced Logic)**"
   ]
  },
  {
   "cell_type": "markdown",
   "id": "de219599",
   "metadata": {},
   "source": [
    "#### Why **Conditional Edges?**"
   ]
  },
  {
   "cell_type": "markdown",
   "id": "17686028",
   "metadata": {},
   "source": [
    "So far, our graph has followed a fixed linear path:\n",
    "\n",
    "classification -> entity_extraction -> summarization -> sentiment\n",
    "\n",
    "But in real-world applications, we often want to run certain steps only if needed. For example:\n",
    "- Only extract entities if the text is a News or Research article.\n",
    "- Skip the summarization if the text is very short.\n",
    "- Add custom processing for Blog posts.\n",
    "\n",
    "LangGraph makes this easy through conditional edges-logic gates that dynamically route excution based on data in the current state."
   ]
  },
  {
   "cell_type": "markdown",
   "id": "e4419b02",
   "metadata": {},
   "source": [
    "#### **1. Update the State**"
   ]
  },
  {
   "cell_type": "code",
   "execution_count": 24,
   "id": "4a0ec31f",
   "metadata": {},
   "outputs": [],
   "source": [
    "class EnhancedState(TypedDict):\n",
    "    text: str\n",
    "    classification: str\n",
    "    entities: List[str]\n",
    "    summary: str\n",
    "    sentiment: str"
   ]
  },
  {
   "cell_type": "markdown",
   "id": "956c7124",
   "metadata": {},
   "source": [
    "#### **2. Create a Routing Function**"
   ]
  },
  {
   "cell_type": "markdown",
   "id": "4e7eec67",
   "metadata": {},
   "source": [
    "This function routes based on classification"
   ]
  },
  {
   "cell_type": "code",
   "execution_count": 25,
   "id": "a100f030",
   "metadata": {},
   "outputs": [],
   "source": [
    "# Route after classification\n",
    "def route_after_classification(state: EnhancedState) -> str:\n",
    "    category = state[\"classification\"].lower()\n",
    "    return category in [\"news\", \"research\"]"
   ]
  },
  {
   "cell_type": "markdown",
   "id": "ac1ed873",
   "metadata": {},
   "source": [
    "#### **3. Define the Graph**"
   ]
  },
  {
   "cell_type": "code",
   "execution_count": 26,
   "id": "ad336961",
   "metadata": {},
   "outputs": [],
   "source": [
    "conditional_workflow = StateGraph(EnhancedState)\n",
    "\n",
    "conditional_workflow.add_node(\"classification\", classification_node)\n",
    "conditional_workflow.add_node(\"entity_extraction\", entity_extraction_node)\n",
    "conditional_workflow.add_node(\"summarization\", summarization_node)\n",
    "conditional_workflow.add_node(\"sentiment_analysis\", sentiment_node)\n",
    "\n",
    "conditional_workflow.set_entry_point(\"classification\")\n",
    "conditional_workflow.add_conditional_edges(\"classification\", route_after_classification, path_map={\n",
    "    True: \"entity_extraction\",\n",
    "    False: \"summarization\"\n",
    "})\n",
    "conditional_workflow.add_edge(\"entity_extraction\", \"summarization\")\n",
    "conditional_workflow.add_edge(\"summarization\", \"sentiment_analysis\")\n",
    "conditional_workflow.add_edge(\"sentiment_analysis\", END)\n",
    "\n",
    "conditional_app = conditional_workflow.compile()"
   ]
  },
  {
   "cell_type": "markdown",
   "id": "5b45a764",
   "metadata": {},
   "source": [
    "#### **4. Visualize**"
   ]
  },
  {
   "cell_type": "code",
   "execution_count": 27,
   "id": "c46bcfb8",
   "metadata": {},
   "outputs": [
    {
     "data": {
      "image/png": "[encoded data removed]",
      "text/plain": [
       "<IPython.core.display.Image object>"
      ]
     },
     "metadata": {},
     "output_type": "display_data"
    }
   ],
   "source": [
    "try:\n",
    "    display(\n",
    "        Image(\n",
    "            conditional_app.get_graph().draw_mermaid_png()\n",
    "        )\n",
    "    )\n",
    "except Exception as e:\n",
    "    print(\"Graph: classification_node → (conditional) → [entity_extraction or summarization] → sentiment_analysis → END\")"
   ]
  },
  {
   "cell_type": "markdown",
   "id": "8f489224",
   "metadata": {},
   "source": [
    "#### **5. Test the conditional Pipeline**"
   ]
  },
  {
   "cell_type": "code",
   "execution_count": 28,
   "id": "8431f439",
   "metadata": {},
   "outputs": [
    {
     "name": "stdout",
     "output_type": "stream",
     "text": [
      "Classification: News\n",
      "Entities: ['OpenAI', 'GPT-4']\n",
      "Summary: OpenAI's GPT-4 model demonstrates enhanced performance and breakthrough reasoning capabilities.\n",
      "Sentiment: Positive\n",
      "\n",
      "Explanation: The text uses several positive terms to describe the GPT-4 model. \"Enhanced performance\" indicates improvement and a better outcome. \"Major breakthrough\" is a very strong positive phrase, signifying a significant and important advancement. The context of improved \"alignment and reasoning capabilities\" also contributes to a positive perception, as these are desirable traits in AI. There are no negative or neutral descriptors present.\n"
     ]
    }
   ],
   "source": [
    "test_text = \"\"\"\n",
    "OpenAI released the GPT-4 model with enhanced performance on academic and professional tasks. It's seen as a major breakthrough in alignment and reasoning capabilities.\n",
    "\"\"\"\n",
    "\n",
    "result = conditional_app.invoke({\"text\": test_text})\n",
    "\n",
    "print(\"Classification:\", result[\"classification\"])\n",
    "print(\"Entities:\", result.get(\"entities\", \"Skipped\"))\n",
    "print(\"Summary:\", result[\"summary\"])\n",
    "print(\"Sentiment:\", result[\"sentiment\"])"
   ]
  },
  {
   "cell_type": "code",
   "execution_count": 29,
   "id": "cd2b13c4",
   "metadata": {},
   "outputs": [
    {
     "name": "stdout",
     "output_type": "stream",
     "text": [
      "Classification: Blog\n",
      "Entities: Skipped (not applicable)\n",
      "Summary: A week of silent meditation, free from distractions, led to deep realizations.\n",
      "Sentiment: \n"
     ]
    }
   ],
   "source": [
    "# Try blog type\n",
    "blog_text = \"\"\"\n",
    "Here's what I learned from a week of meditating in silence. No phones, no talking—just me, my breath, and some deep realizations.\n",
    "\"\"\"\n",
    "\n",
    "result = conditional_app.invoke({\"text\": blog_text})\n",
    "\n",
    "print(\"Classification:\", result[\"classification\"])\n",
    "print(\"Entities:\", result.get(\"entities\", \"Skipped (not applicable)\"))\n",
    "print(\"Summary:\", result[\"summary\"])\n",
    "print(\"Sentiment:\", result[\"sentiment\"])"
   ]
  },
  {
   "cell_type": "markdown",
   "id": "1eea4dfd",
   "metadata": {},
   "source": [
    "With conditional edges, our agent can now:\n",
    "- Make decisions based on context\n",
    "- Skip unnecessary steps\n",
    "- Run faster and cheaper\n",
    "- Behave more intelligently"
   ]
  },
  {
   "cell_type": "markdown",
   "id": "092d13c0",
   "metadata": {},
   "source": [
    "### **Conclusion**"
   ]
  },
  {
   "cell_type": "markdown",
   "id": "d841c1c4",
   "metadata": {},
   "source": [
    "In this tutorial, we've:\n",
    "1. Explored LangGraph concepts and its graph-based approach\n",
    "2. Built a text processing pipeline with classification, entity extraction, and summarization\n",
    "3. Enhanced our pipeline with additional capabilities\n",
    "4. Introduced conditional edges to dynamically control the flow based on classification results\n",
    "5. Visualized our workflow\n",
    "6. Tested our agent with real-world text examples\n",
    "\n",
    "LangGraph provides a powerful framework for creating AI agents by modeling them as graphs of capabilities. This approach makes it easy to design, modify and extend complex AI systems."
   ]
  },
  {
   "cell_type": "markdown",
   "id": "4ec1063a",
   "metadata": {},
   "source": [
    "#### **Next Steps**\n",
    "- Add more nodes to extend agent's capabilities\n",
    "- Experiment with different LLMs and parameters\n",
    "- Explore LangGraph's state persistence features for ongoing conversations"
   ]
  },
  {
   "cell_type": "markdown",
   "id": "6a82ca9a",
   "metadata": {},
   "source": []
  }
 ],
 "metadata": {
  "kernelspec": {
   "display_name": "ai-agent-tutorials",
   "language": "python",
   "name": "python3"
  },
  "language_info": {
   "codemirror_mode": {
    "name": "ipython",
    "version": 3
   },
   "file_extension": ".py",
   "mimetype": "text/x-python",
   "name": "python",
   "nbconvert_exporter": "python",
   "pygments_lexer": "ipython3",
   "version": "3.12.11"
  }
 },
 "nbformat": 4,
 "nbformat_minor": 5
}
